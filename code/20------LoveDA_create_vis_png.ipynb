{
 "cells": [
  {
   "cell_type": "markdown",
   "id": "regulation-programming",
   "metadata": {},
   "source": [
    "# 该程序是用来将LoveDA数据集的masks__png转换成vis_png的"
   ]
  },
  {
   "cell_type": "code",
   "execution_count": 1,
   "id": "organizational-focus",
   "metadata": {},
   "outputs": [
    {
     "name": "stdout",
     "output_type": "stream",
     "text": [
      "1669\n"
     ]
    }
   ],
   "source": [
    "import numpy as np\n",
    "from PIL import Image\n",
    "import glob\n",
    "import time\n",
    "from tqdm import tqdm, trange\n",
    "import os \n",
    "\n",
    "#转换数据集\n",
    "\"\"\"因为，可以看数据集发现，masks_png都是0-1的小数，没有办法训练，所以这里需要转换一下数据集\"\"\"\n",
    "\"\"\"给的代码示例是一次转换一张，现在试试一次性全部转换\"\"\"\n",
    "#类别数 忽略-0 背景-1、建筑-2、道路-3、水-4、贫瘠-5、森林-6、农业-7。没有数据的区域被指定为0，应该忽略 \n",
    "COLOR_MAP = dict(\n",
    "    IGNORE=(0, 0, 0),\n",
    "    Background=(255, 255, 255), #1-背景-白色\n",
    "    Building=(255, 0, 0), #2-建筑-红色\n",
    "    Road=(255, 255, 0), #3-道路-黄色\n",
    "    Water=(0, 0, 255), #4-水-蓝色\n",
    "    Barren=(159, 129, 183),#5-贫瘠-\n",
    "    Forest=(0, 255, 0),#6-森林 绿色\n",
    "    Agricultural=(255, 195, 128), #7-农业用地-肉色  \n",
    ")\n",
    "\n",
    "\n",
    "def render(mask_path, vis_path):\n",
    "    new_mask = np.array(Image.open(mask_path)).astype(np.uint8) #把原来的图片读出来，存成uint8的格式\n",
    "    cm = np.array(list(COLOR_MAP.values())).astype(np.uint8) #取出COLOR_MAP中的值，存到列表\n",
    "    color_img = cm[new_mask]  #这里就变成1024*1024*3的了？ why？？\n",
    "    color_img = Image.fromarray(np.uint8(color_img)) #从np的array格式转换成PIL格式\n",
    "    color_img.save(vis_path)\n",
    "\n",
    "#数据集的地址    \n",
    "masks_file_path = '/root/master/ATL/dataset/LoveDA_1024/Val/Urban/masks_png/'\n",
    "vis_file_path = '/root/master/ATL/dataset/LoveDA_1024/Val/Urban/vis_png/'\n",
    "\n",
    "\n",
    "#数据集的地址列表\n",
    "masks_list = os.listdir(masks_file_path)\n",
    "# masks_list = np.array(sorted(glob.glob(masks_file_path + '*.png'))) #把这个文件夹中的图片的地址，以有序的列表形式存放 \n",
    "print(len(masks_list))"
   ]
  },
  {
   "cell_type": "code",
   "execution_count": 3,
   "id": "minor-wichita",
   "metadata": {},
   "outputs": [
    {
     "name": "stdout",
     "output_type": "stream",
     "text": [
      "vis_png 转换ing...\n"
     ]
    },
    {
     "name": "stderr",
     "output_type": "stream",
     "text": [
      "100%|██████████| 1669/1669 [02:32<00:00, 10.91it/s]"
     ]
    },
    {
     "name": "stdout",
     "output_type": "stream",
     "text": [
      "共转换vis_png 1669 张,耗时 153.00343775749207 秒\n"
     ]
    },
    {
     "name": "stderr",
     "output_type": "stream",
     "text": [
      "\n"
     ]
    }
   ],
   "source": [
    "if __name__ == '__main__':\n",
    "    print('vis_png 转换ing...')\n",
    "    start = time.time()\n",
    "    for i in trange(len(masks_list)):\n",
    "        render(os.path.join(masks_file_path, masks_list[i]), os.path.join(vis_file_path, masks_list[i])) #这里得改一下\n",
    "    end = time.time()\n",
    "    print(f'共转换vis_png {len(masks_list)} 张,耗时 {(end-start)} 秒')"
   ]
  },
  {
   "cell_type": "code",
   "execution_count": null,
   "id": "wooden-jordan",
   "metadata": {},
   "outputs": [],
   "source": []
  }
 ],
 "metadata": {
  "kernelspec": {
   "display_name": "Python 3",
   "language": "python",
   "name": "python3"
  },
  "language_info": {
   "codemirror_mode": {
    "name": "ipython",
    "version": 3
   },
   "file_extension": ".py",
   "mimetype": "text/x-python",
   "name": "python",
   "nbconvert_exporter": "python",
   "pygments_lexer": "ipython3",
   "version": "3.6.9"
  }
 },
 "nbformat": 4,
 "nbformat_minor": 5
}
