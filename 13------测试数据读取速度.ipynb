{
 "cells": [
  {
   "cell_type": "code",
   "execution_count": 22,
   "id": "altered-third",
   "metadata": {},
   "outputs": [],
   "source": [
    "from __future__ import print_function\n",
    "import torch\n",
    "import torch.nn as nn\n",
    "import torch.backends.cudnn as cudnn\n",
    "import torchvision\n",
    "import time\n",
    "import torch.nn.functional as F\n",
    "from matplotlib import pyplot as plt\n",
    "from PIL import Image\n",
    "import d2l\n",
    "import imageio\n",
    "\n",
    "import numpy as np\n",
    "from measure import SegmentationMetric\n",
    "from dataset import load_dataset   # from xx.py文件 import里面的函数\n",
    "from MACUNet import MACUNet\n",
    "from early_stopping import EarlyStopping\n",
    "from tqdm import tqdm, trange\n",
    "import glob\n",
    "\n",
    "import cv2\n",
    "from matplotlib import pyplot as plt \n",
    "\n",
    "import warnings\n",
    "warnings.simplefilter(action='ignore', category=FutureWarning)\n",
    "torch.backends.cudnn.enabled =True\n",
    "# torch.backends.cudnn.benchmark = True\n",
    "import os\n",
    "os.environ['CUDA_LAUNCH_BLOCKING'] = '1'\n",
    "os.environ[\"CUDA_VISIBLE_DEVICES\"] = \"0\"\n",
    "\n",
    "%matplotlib inline\n",
    "%config InlineBackend.figure_format = 'svg'"
   ]
  },
  {
   "cell_type": "code",
   "execution_count": 2,
   "id": "incredible-illinois",
   "metadata": {},
   "outputs": [],
   "source": [
    "#一些参数的设置\n",
    "batch_size = 64 #batch_size\n",
    "niter = 50    #迭代次数,epoches\n",
    "class_num = 7   #类别数 背景-1、建筑-2、道路-3、水-4、贫瘠-5、森林-6、农业-7。没有数据的区域被指定为0，应该忽略 \n",
    "learning_rate = 0.0001 * 3  #学习率\n",
    "beta1 = 0.5     #beta1,应该也是Adam中的？\n",
    "cuda = True\n",
    "num_workers = 12 #读入数据时候的线程\n",
    "size_h = 256   #输入的images高度\n",
    "size_w = 256   #输入的images宽度\n",
    "flip = 0       #翻转\n",
    "band = 3       #通道数，RGB则为3,遥感图像还有其他多光谱的\n",
    "net = MACUNet(band, class_num)   #MACUNET网络\n",
    "\n",
    "################全部数据################\n",
    "# train_path = '/root/master/ATL/MACU-Net-master/data/LoveDA/Train/Urban' #训练集地址\n",
    "# val_path = '/root/master/ATL/MACU-Net-master/data/LoveDA/Val/Urban'     #验证集地址\n",
    "# test_path ='/root/master/ATL/MACU-Net-master/data/LoveDA/Test/Urban'    #测试集地址\n",
    "\n",
    "train_path = '/root/master/ATL/dataset/LoveDA_256/Train/Urban' #训练集地址\n",
    "val_path = '/root/master/ATL/dataset/LoveDA_1024/Val/Urban'     #验证集地址\n",
    "test_path ='/root/master/ATL/dataset/LoveDA_1024/Val/Urban' \n",
    "\n",
    "###############小数据测试####################\n",
    "# train_path = '/root/master/ATL/dataset/render/little_data/Train/Urban' #训练集地址\n",
    "# val_path = '/root/master/ATL/dataset/render/little_data/Val/Urban'     #验证集地址\n",
    "# test_path ='/root/master/ATL/dataset/render/little_data/Test/Urban'    #测试集地址\n",
    "\n",
    "out_file = '../checkpoint/' + net.name  #输出的地址\n",
    "\n",
    "num_GPU = 1  #GPU的个数\n",
    "index = 640\n",
    "# torch.cuda.set_device(0) #设置设备为GPU0？？？？？如果是多个GPU呢？？？\n",
    "# os.environ[\"CUDA_VISIBLE_DEVICES\"] = \"0\""
   ]
  },
  {
   "cell_type": "code",
   "execution_count": 3,
   "id": "appreciated-exemption",
   "metadata": {},
   "outputs": [],
   "source": [
    "train_path = '/root/master/ATL/dataset/LoveDA_256/Train/Urban' #训练集地址\n",
    "val_path = '/root/master/ATL/dataset/LoveDA_256/Val/Urban'     #验证集地址\n",
    "test_path ='/root/master/ATL/dataset/LoveDA_256/Val/Urban' "
   ]
  },
  {
   "cell_type": "code",
   "execution_count": 4,
   "id": "caring-slave",
   "metadata": {},
   "outputs": [
    {
     "name": "stdout",
     "output_type": "stream",
     "text": [
      "-----------------------------------------\n",
      "  -训练集数据加载成功，共36992条\n",
      "  -训练集images shape (256, 256, 3)\n",
      "  -训练集label shape (256, 256)\n",
      "-----------------------------------------\n",
      "  -测试集数据加载成功，共21664条\n",
      "  -验证集images shape (256, 256, 3)\n",
      "  -验证集label shape (256, 256)\n",
      "-----------------------------------------\n"
     ]
    }
   ],
   "source": [
    "################加载训练集和验证集############\n",
    "train_dataset_ = load_dataset(train_path, size_w, size_h, flip, band, batch_size) #训练集\n",
    "val_dataset_ = load_dataset(val_path, size_w, size_h, 0, band) #验证集\n",
    "\n",
    "\n",
    "print('-----------------------------------------')   \n",
    "if train_dataset_.src_list != []:\n",
    "    print(f'  -训练集数据加载成功，共{len(train_dataset_.src_list)}条')\n",
    "    print('  -训练集images shape',train_dataset_.__getitem__(0)[0].shape)\n",
    "    print('  -训练集label shape',train_dataset_.__getitem__(0)[1].shape)\n",
    "    \n",
    "else:\n",
    "    print('  --训练集数据加载失败--')\n",
    "    \n",
    "print('-----------------------------------------')    \n",
    "if val_dataset_.src_list != []:\n",
    "    print(f'  -测试集数据加载成功，共{len(val_dataset_.src_list)}条')\n",
    "    print('  -验证集images shape',val_dataset_.__getitem__(0)[0].shape)\n",
    "    print('  -验证集label shape',val_dataset_.__getitem__(0)[1].shape)\n",
    "else:\n",
    "    print('  --测试集数据加载失败--')\n",
    "print('-----------------------------------------')    "
   ]
  },
  {
   "cell_type": "code",
   "execution_count": 19,
   "id": "dense-sheep",
   "metadata": {},
   "outputs": [],
   "source": [
    "src_list = np.array(sorted(glob.glob(train_path + '/images_png/' + '*.png'))) #把"
   ]
  },
  {
   "cell_type": "code",
   "execution_count": 27,
   "id": "functioning-custody",
   "metadata": {},
   "outputs": [
    {
     "name": "stdout",
     "output_type": "stream",
     "text": [
      "共耗时187.81041526794434秒\n"
     ]
    }
   ],
   "source": [
    "start = time.time()\n",
    "for i in range(len(src_list)):\n",
    "    img = np.array(Image.open(src_list[i]))\n",
    "    del img\n",
    "end = time.time()\n",
    "print(f'共耗时{end-start}秒')"
   ]
  },
  {
   "cell_type": "code",
   "execution_count": null,
   "id": "isolated-freight",
   "metadata": {},
   "outputs": [],
   "source": []
  }
 ],
 "metadata": {
  "kernelspec": {
   "display_name": "Python 3",
   "language": "python",
   "name": "python3"
  },
  "language_info": {
   "codemirror_mode": {
    "name": "ipython",
    "version": 3
   },
   "file_extension": ".py",
   "mimetype": "text/x-python",
   "name": "python",
   "nbconvert_exporter": "python",
   "pygments_lexer": "ipython3",
   "version": "3.6.9"
  }
 },
 "nbformat": 4,
 "nbformat_minor": 5
}
