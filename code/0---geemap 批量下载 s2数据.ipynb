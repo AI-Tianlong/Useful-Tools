{
 "cells": [
  {
   "cell_type": "markdown",
   "metadata": {},
   "source": [
    "# <font color='4285f4'>G</font><font color='ea4335'>o</font><font color='fbbc05'>o</font><font color='4285f4'>g</font><font color='34a853'>l</font><font color='ea4335'>e</font>  Earth Engine 平台数据集下载方式\n",
    " <font color='red'>（全程需要科学上网）</font>  \n",
    "## 利用 geemap 批量下载 Sentinel-2 数据教程 （其他数据类似）\n",
    "**功能特性：**\n",
    "- 可人为指定起始及终止时间\n",
    "- 可根据区域矢量文件控制下载区域\n",
    "- 可控制波段数\n",
    "- 可控制云量(可直接去云并用多时间段的影像拼接处完整的一副图像)\n",
    "- 不限制下载数量及文件大小（<font color='4285f4'>G</font><font color='ea4335'>o</font><font color='fbbc05'>o</font><font color='4285f4'>g</font><font color='34a853'>l</font><font color='ea4335'>e</font> Earth Engine 平台限制2G大小）\n",
    "\n",
    "**本 Code 的参考教程：**\n",
    "- https://mp.weixin.qq.com/s/rRCXi_c8hcM7uROjahktBw    \n",
    "- https://geemap.org/notebooks/118_download_image/  \n",
    "\n",
    "**全国矢量文件下载地址**\n",
    "- [【阿里云可视化平台】](https://datav.aliyun.com/portal/school/atlas/area_selector)---导出为 json 格式\n",
    "\n",
    "\n",
    "**GEE 平台的数据集目录**\n",
    "- [【Google Earth Engine数据集目录】](https://developers.google.com/earth-engine/datasets/catalog/) \n",
    "- [【哨兵 2 号数据介绍】](https://developers.google.com/earth-engine/datasets/catalog/COPERNICUS_S2_SR)   \n",
    "\n",
    "<div align=\"left\">\n",
    "    <img src=\"https://github.com/AI-Tianlong/Useful-Tools/assets/50650583/61791339-c074-4e96-a0d4-7d55c9057569\" alt=\"NVIDIA-Jetson\" width=\"50%\">  \n",
    "</div>\n",
    "\n",
    "<div align=\"left\">\n",
    "    <p></p>  \n",
    "    <a href='https://github.com/AI-Tianlong'>艾天龙 AI-Tianlong</a>\n",
    "    <p>2024 年 2 月 24</p>  \n",
    "</div>\n",
    "                          "
   ]
  },
  {
   "cell_type": "markdown",
   "metadata": {},
   "source": [
    "## 第 1 步：注册 <font color='4285f4'>G</font><font color='ea4335'>o</font><font color='fbbc05'>o</font><font color='4285f4'>g</font><font color='34a853'>l</font><font color='ea4335'>e</font> Earth Engine 账号\n",
    "\n",
    "访问 [Google Earth Engine](https://code.earthengine.google.com/) 进行注册"
   ]
  },
  {
   "cell_type": "markdown",
   "metadata": {},
   "source": [
    "## 第 2 步：导入 ee 包"
   ]
  },
  {
   "cell_type": "code",
   "execution_count": 16,
   "metadata": {},
   "outputs": [
    {
     "data": {
      "text/html": [
       "\n",
       "            <style>\n",
       "                .geemap-dark {\n",
       "                    --jp-widgets-color: white;\n",
       "                    --jp-widgets-label-color: white;\n",
       "                    --jp-ui-font-color1: white;\n",
       "                    --jp-layout-color2: #454545;\n",
       "                    background-color: #383838;\n",
       "                }\n",
       "                    \n",
       "                .geemap-dark .jupyter-button {\n",
       "                    --jp-layout-color3: #383838;\n",
       "                }\n",
       "                \n",
       "                .geemap-colab {\n",
       "                    background-color: var(--colab-primary-surface-color, white);\n",
       "                }\n",
       "                    \n",
       "                .geemap-colab .jupyter-button {\n",
       "                    --jp-layout-color3: var(--colab-primary-surface-color, white);\n",
       "                }\n",
       "            </style>\n",
       "            "
      ],
      "text/plain": [
       "<IPython.core.display.HTML object>"
      ]
     },
     "metadata": {},
     "output_type": "display_data"
    }
   ],
   "source": [
    "import ee  #导入ee\n",
    "import geemap\n",
    "from IPython.display import Image\n",
    "import datetime\n",
    "import os\n",
    "\n",
    "# 使用 `pip install ATL-Tools` 安装\n",
    "from ATL_Tools import mkdir_or_exist, find_data_list \n"
   ]
  },
  {
   "cell_type": "markdown",
   "metadata": {},
   "source": [
    "## 第 3 步：初始化项目\n",
    "授权登录，这一步必须做，\n"
   ]
  },
  {
   "cell_type": "code",
   "execution_count": 17,
   "metadata": {},
   "outputs": [
    {
     "data": {
      "text/html": [
       "\n",
       "            <style>\n",
       "                .geemap-dark {\n",
       "                    --jp-widgets-color: white;\n",
       "                    --jp-widgets-label-color: white;\n",
       "                    --jp-ui-font-color1: white;\n",
       "                    --jp-layout-color2: #454545;\n",
       "                    background-color: #383838;\n",
       "                }\n",
       "                    \n",
       "                .geemap-dark .jupyter-button {\n",
       "                    --jp-layout-color3: #383838;\n",
       "                }\n",
       "                \n",
       "                .geemap-colab {\n",
       "                    background-color: var(--colab-primary-surface-color, white);\n",
       "                }\n",
       "                    \n",
       "                .geemap-colab .jupyter-button {\n",
       "                    --jp-layout-color3: var(--colab-primary-surface-color, white);\n",
       "                }\n",
       "            </style>\n",
       "            "
      ],
      "text/plain": [
       "<IPython.core.display.HTML object>"
      ]
     },
     "metadata": {},
     "output_type": "display_data"
    }
   ],
   "source": [
    "# 身份验证，会跳转到浏览器进行验证\n",
    "ee.Authenticate() \n",
    "\n",
    "#初始化项目，编号在GEE查看\n",
    "ee.Initialize(project='applied-tractor-343704')  "
   ]
  },
  {
   "cell_type": "markdown",
   "metadata": {},
   "source": [
    "## 第 4 步：加载 哨兵 2 号底图"
   ]
  },
  {
   "cell_type": "code",
   "execution_count": 3,
   "metadata": {},
   "outputs": [
    {
     "data": {
      "text/html": [
       "\n",
       "            <style>\n",
       "                .geemap-dark {\n",
       "                    --jp-widgets-color: white;\n",
       "                    --jp-widgets-label-color: white;\n",
       "                    --jp-ui-font-color1: white;\n",
       "                    --jp-layout-color2: #454545;\n",
       "                    background-color: #383838;\n",
       "                }\n",
       "                    \n",
       "                .geemap-dark .jupyter-button {\n",
       "                    --jp-layout-color3: #383838;\n",
       "                }\n",
       "                \n",
       "                .geemap-colab {\n",
       "                    background-color: var(--colab-primary-surface-color, white);\n",
       "                }\n",
       "                    \n",
       "                .geemap-colab .jupyter-button {\n",
       "                    --jp-layout-color3: var(--colab-primary-surface-color, white);\n",
       "                }\n",
       "            </style>\n",
       "            "
      ],
      "text/plain": [
       "<IPython.core.display.HTML object>"
      ]
     },
     "metadata": {},
     "output_type": "display_data"
    }
   ],
   "source": [
    "sentinel2_images = ee.ImageCollection('COPERNICUS/S2_SR_HARMONIZED')"
   ]
  },
  {
   "cell_type": "markdown",
   "metadata": {},
   "source": [
    "##  第 5 步：加载 要下载区域的矢量边界\n",
    "- 需要 `.shp` 文件 或 `.json` 文件  \n",
    "- `.shp`文件需要该文件下包含 .shp .shx .dbf .prj 四个文件，使用 `geemap.shp_to_ee(xxx)` 函数导入  \n",
    "- `.json`文件需要，使用 `geemap.geojson_to_ee(xxx)` 函数导入  \n",
    "\n"
   ]
  },
  {
   "cell_type": "code",
   "execution_count": 18,
   "metadata": {},
   "outputs": [
    {
     "data": {
      "text/html": [
       "\n",
       "            <style>\n",
       "                .geemap-dark {\n",
       "                    --jp-widgets-color: white;\n",
       "                    --jp-widgets-label-color: white;\n",
       "                    --jp-ui-font-color1: white;\n",
       "                    --jp-layout-color2: #454545;\n",
       "                    background-color: #383838;\n",
       "                }\n",
       "                    \n",
       "                .geemap-dark .jupyter-button {\n",
       "                    --jp-layout-color3: #383838;\n",
       "                }\n",
       "                \n",
       "                .geemap-colab {\n",
       "                    background-color: var(--colab-primary-surface-color, white);\n",
       "                }\n",
       "                    \n",
       "                .geemap-colab .jupyter-button {\n",
       "                    --jp-layout-color3: var(--colab-primary-surface-color, white);\n",
       "                }\n",
       "            </style>\n",
       "            "
      ],
      "text/plain": [
       "<IPython.core.display.HTML object>"
      ]
     },
     "metadata": {},
     "output_type": "display_data"
    }
   ],
   "source": [
    "# shp 转换为 ee 格式\n",
    "Harbin_shp = \"./nangangqu/nangangqu.shp\"\n",
    "Harbin_ee = geemap.shp_to_ee(Harbin_shp)  \n",
    "\n",
    "## json 转换为 ee 格式 （从最开始下载的json）\n",
    "# Harbin_json = \"./nangangqu/nangangqu.json\"\n",
    "# Harbin_ee = geemap.shp_to_ee(Harbin_json)  "
   ]
  },
  {
   "cell_type": "markdown",
   "metadata": {},
   "source": [
    "## 第 6 步：哨兵 2 号去云的函数"
   ]
  },
  {
   "cell_type": "code",
   "execution_count": 5,
   "metadata": {},
   "outputs": [
    {
     "data": {
      "text/html": [
       "\n",
       "            <style>\n",
       "                .geemap-dark {\n",
       "                    --jp-widgets-color: white;\n",
       "                    --jp-widgets-label-color: white;\n",
       "                    --jp-ui-font-color1: white;\n",
       "                    --jp-layout-color2: #454545;\n",
       "                    background-color: #383838;\n",
       "                }\n",
       "                    \n",
       "                .geemap-dark .jupyter-button {\n",
       "                    --jp-layout-color3: #383838;\n",
       "                }\n",
       "                \n",
       "                .geemap-colab {\n",
       "                    background-color: var(--colab-primary-surface-color, white);\n",
       "                }\n",
       "                    \n",
       "                .geemap-colab .jupyter-button {\n",
       "                    --jp-layout-color3: var(--colab-primary-surface-color, white);\n",
       "                }\n",
       "            </style>\n",
       "            "
      ],
      "text/plain": [
       "<IPython.core.display.HTML object>"
      ]
     },
     "metadata": {},
     "output_type": "display_data"
    }
   ],
   "source": [
    "# 借助 Sentinel-2 数据中的 QA60 字段去云，这是 GEE 官网提示的去云函数\n",
    "def maskS2clouds(image):\n",
    "   qa = image.select('QA60')\n",
    "   # Bits 10 and 11是云，我们要把它mask掉\n",
    "   cloudBitMask = 1 << 10\n",
    "   cirrusBitMask = 1 << 1\n",
    "   # 这两个标志都应该设置为0，表示条件明确。\n",
    "   mask = qa.bitwiseAnd(cloudBitMask).eq(0) \\\n",
    "      .And(qa.bitwiseAnd(cirrusBitMask).eq(0))\n",
    "   # 哨兵的像元值是反射率的10000倍，要除以10000\n",
    "   return image.updateMask(mask).divide(10000)"
   ]
  },
  {
   "cell_type": "markdown",
   "metadata": {},
   "source": [
    "## 第 7 步：筛选出待下载的影像"
   ]
  },
  {
   "cell_type": "code",
   "execution_count": 6,
   "metadata": {},
   "outputs": [
    {
     "data": {
      "text/html": [
       "\n",
       "            <style>\n",
       "                .geemap-dark {\n",
       "                    --jp-widgets-color: white;\n",
       "                    --jp-widgets-label-color: white;\n",
       "                    --jp-ui-font-color1: white;\n",
       "                    --jp-layout-color2: #454545;\n",
       "                    background-color: #383838;\n",
       "                }\n",
       "                    \n",
       "                .geemap-dark .jupyter-button {\n",
       "                    --jp-layout-color3: #383838;\n",
       "                }\n",
       "                \n",
       "                .geemap-colab {\n",
       "                    background-color: var(--colab-primary-surface-color, white);\n",
       "                }\n",
       "                    \n",
       "                .geemap-colab .jupyter-button {\n",
       "                    --jp-layout-color3: var(--colab-primary-surface-color, white);\n",
       "                }\n",
       "            </style>\n",
       "            "
      ],
      "text/plain": [
       "<IPython.core.display.HTML object>"
      ]
     },
     "metadata": {},
     "output_type": "display_data"
    }
   ],
   "source": [
    "# 时间段 2022 年全年、云层覆盖率小于 10%、以目标区域为边界、遍历去云函数、选取 1~8 波段\n",
    "collection = sentinel2_images.filterDate('2019-7-15', '2019-8-15') \\\n",
    "            .filter(ee.Filter.lt('CLOUDY_PIXEL_PERCENTAGE', 10)) \\\n",
    "            .filterBounds(Harbin_ee) \\\n",
    "            .map(maskS2clouds) \\\n",
    "            .select('B[1-8]')"
   ]
  },
  {
   "cell_type": "markdown",
   "metadata": {},
   "source": [
    "## 第 8 步：裁剪图像，这里是裁切成了最小的外接矩形"
   ]
  },
  {
   "cell_type": "code",
   "execution_count": 7,
   "metadata": {},
   "outputs": [
    {
     "data": {
      "text/html": [
       "\n",
       "            <style>\n",
       "                .geemap-dark {\n",
       "                    --jp-widgets-color: white;\n",
       "                    --jp-widgets-label-color: white;\n",
       "                    --jp-ui-font-color1: white;\n",
       "                    --jp-layout-color2: #454545;\n",
       "                    background-color: #383838;\n",
       "                }\n",
       "                    \n",
       "                .geemap-dark .jupyter-button {\n",
       "                    --jp-layout-color3: #383838;\n",
       "                }\n",
       "                \n",
       "                .geemap-colab {\n",
       "                    background-color: var(--colab-primary-surface-color, white);\n",
       "                }\n",
       "                    \n",
       "                .geemap-colab .jupyter-button {\n",
       "                    --jp-layout-color3: var(--colab-primary-surface-color, white);\n",
       "                }\n",
       "            </style>\n",
       "            "
      ],
      "text/plain": [
       "<IPython.core.display.HTML object>"
      ]
     },
     "metadata": {},
     "output_type": "display_data"
    }
   ],
   "source": [
    "# ROI 区域为 矢量边界最小的外接矩形\n",
    "ROI = Harbin_ee.geometry().bounds()\n",
    "\n",
    "# 将影像数据集计算中值后得到的单幅影像针对目标区域进行裁剪，得到最终待下载数据\n",
    "composite = collection.median().clip(ROI)"
   ]
  },
  {
   "cell_type": "markdown",
   "metadata": {},
   "source": [
    "## 第 9 步：数据显示 检查一下要下载的数据"
   ]
  },
  {
   "cell_type": "code",
   "execution_count": 8,
   "metadata": {},
   "outputs": [
    {
     "data": {
      "text/html": [
       "\n",
       "            <style>\n",
       "                .geemap-dark {\n",
       "                    --jp-widgets-color: white;\n",
       "                    --jp-widgets-label-color: white;\n",
       "                    --jp-ui-font-color1: white;\n",
       "                    --jp-layout-color2: #454545;\n",
       "                    background-color: #383838;\n",
       "                }\n",
       "                    \n",
       "                .geemap-dark .jupyter-button {\n",
       "                    --jp-layout-color3: #383838;\n",
       "                }\n",
       "                \n",
       "                .geemap-colab {\n",
       "                    background-color: var(--colab-primary-surface-color, white);\n",
       "                }\n",
       "                    \n",
       "                .geemap-colab .jupyter-button {\n",
       "                    --jp-layout-color3: var(--colab-primary-surface-color, white);\n",
       "                }\n",
       "            </style>\n",
       "            "
      ],
      "text/plain": [
       "<IPython.core.display.HTML object>"
      ]
     },
     "metadata": {},
     "output_type": "display_data"
    }
   ],
   "source": [
    "rgbVis = {\n",
    " 'min': 0.0,\n",
    " 'max': 0.3,\n",
    " 'bands': ['B4', 'B3', 'B2'],\n",
    "}\n",
    "# 设置显示样式：color代表边界颜色；fillcolor代表填充颜色\n",
    "styling = {\n",
    "   'color': 'red',\n",
    "   'fillColor': '00000000'\n",
    "}"
   ]
  },
  {
   "cell_type": "markdown",
   "metadata": {},
   "source": [
    "**运行完下一单元代码，顺利的话，会生成如下图所示的样子**\n",
    "<div align=\"left\">\n",
    "    <img src=\"https://github.com/AI-Tianlong/Useful-Tools/assets/50650583/34599a5b-6869-45ac-b7df-3f4db136390d\" alt=\"NVIDIA-Jetson\" width=\"50%\">  \n",
    "</div>"
   ]
  },
  {
   "cell_type": "code",
   "execution_count": 9,
   "metadata": {},
   "outputs": [
    {
     "data": {
      "text/html": [
       "\n",
       "            <style>\n",
       "                .geemap-dark {\n",
       "                    --jp-widgets-color: white;\n",
       "                    --jp-widgets-label-color: white;\n",
       "                    --jp-ui-font-color1: white;\n",
       "                    --jp-layout-color2: #454545;\n",
       "                    background-color: #383838;\n",
       "                }\n",
       "                    \n",
       "                .geemap-dark .jupyter-button {\n",
       "                    --jp-layout-color3: #383838;\n",
       "                }\n",
       "                \n",
       "                .geemap-colab {\n",
       "                    background-color: var(--colab-primary-surface-color, white);\n",
       "                }\n",
       "                    \n",
       "                .geemap-colab .jupyter-button {\n",
       "                    --jp-layout-color3: var(--colab-primary-surface-color, white);\n",
       "                }\n",
       "            </style>\n",
       "            "
      ],
      "text/plain": [
       "<IPython.core.display.HTML object>"
      ]
     },
     "metadata": {},
     "output_type": "display_data"
    },
    {
     "data": {
      "application/vnd.jupyter.widget-view+json": {
       "model_id": "8640b18e750646288b87a70ca54cf041",
       "version_major": 2,
       "version_minor": 0
      },
      "text/plain": [
       "Map(center=[45.648595197770454, 126.56683615320915], controls=(WidgetControl(options=['position', 'transparent…"
      ]
     },
     "execution_count": 9,
     "metadata": {},
     "output_type": "execute_result"
    }
   ],
   "source": [
    "# 可视化\n",
    "Map = geemap.Map()\n",
    "Map.addLayer(composite, rgbVis, '南岗区S2影像')\n",
    "Map.addLayer(Harbin_ee.style(**styling), {}, \"南岗区边界\")  # 将矢量数据添加到地图上\n",
    "Map.centerObject(Harbin_ee, 10)\n",
    "Map"
   ]
  },
  {
   "cell_type": "markdown",
   "metadata": {},
   "source": [
    "## 第 10 步：可视化检查完没有问题，开始准备下载"
   ]
  },
  {
   "cell_type": "code",
   "execution_count": 10,
   "metadata": {},
   "outputs": [
    {
     "data": {
      "text/html": [
       "\n",
       "            <style>\n",
       "                .geemap-dark {\n",
       "                    --jp-widgets-color: white;\n",
       "                    --jp-widgets-label-color: white;\n",
       "                    --jp-ui-font-color1: white;\n",
       "                    --jp-layout-color2: #454545;\n",
       "                    background-color: #383838;\n",
       "                }\n",
       "                    \n",
       "                .geemap-dark .jupyter-button {\n",
       "                    --jp-layout-color3: #383838;\n",
       "                }\n",
       "                \n",
       "                .geemap-colab {\n",
       "                    background-color: var(--colab-primary-surface-color, white);\n",
       "                }\n",
       "                    \n",
       "                .geemap-colab .jupyter-button {\n",
       "                    --jp-layout-color3: var(--colab-primary-surface-color, white);\n",
       "                }\n",
       "            </style>\n",
       "            "
      ],
      "text/plain": [
       "<IPython.core.display.HTML object>"
      ]
     },
     "metadata": {},
     "output_type": "display_data"
    }
   ],
   "source": [
    "# 配置输出目录\n",
    "output_file = \"E:\\Datasets\\ATL_ATL自建数据集\\Sentinel2-datasets\\南岗区\"\n",
    "\n",
    "mkdir_or_exist(output_file)\n",
    "\n",
    "out_tif = os.path.join(output_file, \"S2_SR_2022_nangangqu.tif\")"
   ]
  },
  {
   "cell_type": "markdown",
   "metadata": {},
   "source": [
    "**开始下载影像 顺利的话会出现一个进度条，如下图所示**\n",
    "<div align=\"left\">\n",
    "    <img src=\"https://github.com/AI-Tianlong/Useful-Tools/assets/50650583/46d68958-4f1e-4e3b-84af-0c789d583064\" alt=\"NVIDIA-Jetson\" width=\"70%\">  \n",
    "</div>\n",
    "一定要注意科学上网的稳定性，下载过程中断了就要重新下载，不然会出现下载不完整的情况  \n",
    "最后下载的图像就会出现在指定的文件下"
   ]
  },
  {
   "cell_type": "code",
   "execution_count": 11,
   "metadata": {},
   "outputs": [
    {
     "data": {
      "text/html": [
       "\n",
       "            <style>\n",
       "                .geemap-dark {\n",
       "                    --jp-widgets-color: white;\n",
       "                    --jp-widgets-label-color: white;\n",
       "                    --jp-ui-font-color1: white;\n",
       "                    --jp-layout-color2: #454545;\n",
       "                    background-color: #383838;\n",
       "                }\n",
       "                    \n",
       "                .geemap-dark .jupyter-button {\n",
       "                    --jp-layout-color3: #383838;\n",
       "                }\n",
       "                \n",
       "                .geemap-colab {\n",
       "                    background-color: var(--colab-primary-surface-color, white);\n",
       "                }\n",
       "                    \n",
       "                .geemap-colab .jupyter-button {\n",
       "                    --jp-layout-color3: var(--colab-primary-surface-color, white);\n",
       "                }\n",
       "            </style>\n",
       "            "
      ],
      "text/plain": [
       "<IPython.core.display.HTML object>"
      ]
     },
     "metadata": {},
     "output_type": "display_data"
    },
    {
     "data": {
      "application/vnd.jupyter.widget-view+json": {
       "model_id": "3e00203747704145bbb511bb55465a85",
       "version_major": 2,
       "version_minor": 0
      },
      "text/plain": [
       "S2_SR_2022_nangangqu.tif: |          | 0.00/282M (raw) [  0.0%] in 00:00 (eta:     ?)"
      ]
     },
     "metadata": {},
     "output_type": "display_data"
    },
    {
     "name": "stderr",
     "output_type": "stream",
     "text": [
      "There is no STAC entry for: None\n"
     ]
    }
   ],
   "source": [
    "# 下载影像\n",
    "geemap.download_ee_image(\n",
    "   image=composite,\n",
    "   filename=out_tif,\n",
    "   region=ROI,\n",
    "   crs=\"EPSG:4326\",\n",
    "   scale=10,\n",
    ")"
   ]
  }
 ],
 "metadata": {
  "kernelspec": {
   "display_name": "Python 3 (ipykernel)",
   "language": "python",
   "name": "python3"
  },
  "language_info": {
   "codemirror_mode": {
    "name": "ipython",
    "version": 3
   },
   "file_extension": ".py",
   "mimetype": "text/x-python",
   "name": "python",
   "nbconvert_exporter": "python",
   "pygments_lexer": "ipython3",
   "version": "3.9.15"
  }
 },
 "nbformat": 4,
 "nbformat_minor": 4
}
