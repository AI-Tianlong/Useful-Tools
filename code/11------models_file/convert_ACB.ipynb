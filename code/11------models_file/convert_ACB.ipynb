{
 "cells": [
  {
   "cell_type": "code",
   "execution_count": null,
   "metadata": {},
   "outputs": [],
   "source": [
    "import argparse\n",
    "import os\n",
    "import torch\n",
    "from ACBiSeNetV6 import ACBiSeNetV6\n",
    "\n",
    "parser = argparse.ArgumentParser(description='ACB Conversion')\n",
    "parser.add_argument('load', metavar='LOAD', help='path to the weights file')\n",
    "parser.add_argument('save', metavar='SAVE', help='path to the weights file')\n",
    "parser.add_argument('-model', '--arch', metavar='ARCH', default='ACBiSeNetV2')\n",
    "\n",
    "def convert():\n",
    "    args = parser.parse_args()\n",
    "\n",
    "    train_model = ACBiSeNetV6(6,'mobilenetv3')\n",
    "\n",
    "    if os.path.isfile(args.load):\n",
    "        print(f\"=> loading checkpoint '{args.load}'\")\n",
    "        checkpoint = torch.load(args.load)\n",
    "        \n",
    "        if 'state_dict' in checkpoint:\n",
    "            checkpoint = checkpoint['state_dict']\n",
    "        ckpt = {k.replace('module.', ''): v for k, v in checkpoint.items()}  # strip the names\n",
    "        train_model.load_state_dict(ckpt)\n",
    "    else:\n",
    "        print(\"=> no checkpoint found at '{args.load}'\")\n",
    "\n",
    "    for m in train_model.modules():\n",
    "        if hasattr(m, 'switch_to_deploy'):\n",
    "            m.switch_to_deploy()\n",
    "    torch.save(train_model.state_dict(), args.save)"
   ]
  },
  {
   "cell_type": "code",
   "execution_count": null,
   "metadata": {},
   "outputs": [],
   "source": [
    "if __name__ == '__main__':\n",
    "    train_model = ACBiSeNetV2(6,'mobilenetv3')\n",
    "    train_model = nn.DataParallel(train_model);   #多gpu训练的模型，要加这一句才行\n",
    "    train_model.cuda();\n",
    "    \n",
    "    checkpoint = torch.load('/root/master/ATL/code/code/checkpoint/Potsdam/acbisenetv2/05-14-02_10_10/model_weights.pth')\n",
    "    save_path = '/root/master/ATL/code/code/checkpoint/Potsdam/acbisenetv2/05-14-02_10_10/model_weights_deploy.pth'\n",
    "    \n",
    "    if 'state_dict' in checkpoint:\n",
    "        checkpoint = checkpoint['state_dict']\n",
    "    # ckpt = {k.replace('module.', ''): v for k, v in checkpoint.items()}  # strip the names #把多dpu训练的模型给那啥了\n",
    "    train_model.load_state_dict(checkpoint) #ckpt\n",
    "\n",
    "    for m in train_model.modules():\n",
    "        if hasattr(m, 'switch_to_deploy'):\n",
    "            m.switch_to_deploy()\n",
    "        torch.save(train_model.state_dict(), save_path)"
   ]
  }
 ],
 "metadata": {
  "language_info": {
   "name": "python"
  },
  "orig_nbformat": 4
 },
 "nbformat": 4,
 "nbformat_minor": 2
}
