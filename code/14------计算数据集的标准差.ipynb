{
 "cells": [
  {
   "cell_type": "code",
   "execution_count": 1,
   "id": "sonic-increase",
   "metadata": {},
   "outputs": [],
   "source": [
    "import os\n",
    "import torch\n",
    "from torchvision import datasets, transforms\n",
    "from torch.utils.data.dataset import Dataset\n",
    "from tqdm.notebook import tqdm\n",
    "from time import time\n",
    "from dataset import img_dataset"
   ]
  },
  {
   "cell_type": "code",
   "execution_count": 2,
   "id": "early-bermuda",
   "metadata": {},
   "outputs": [
    {
     "name": "stdout",
     "output_type": "stream",
     "text": [
      "-----------------------------------------\n",
      "  -Val Dataset load successfully! total 387\n",
      "  -Val Dataset images shape torch.Size([3, 512, 512])\n",
      "  -Val Dataset label shape (512, 512)\n",
      "-----------------------------------------\n"
     ]
    }
   ],
   "source": [
    "N_CHANNELS = 3\n",
    "train_path =  '/root/master/ATL/dataset/Vaihingen/Vaihingen_512/Train' \n",
    "\n",
    "img_transform = transforms.ToTensor()\n",
    "data_val = img_dataset(train_path,img_transform)\n",
    "data_loader_val = torch.utils.data.DataLoader(dataset=data_val,\n",
    "                                                # 这里注意batch size要对应放大倍数\n",
    "                                                batch_size = 1, \n",
    "                                                shuffle = True,num_workers=12)\n",
    "\n",
    "    \n",
    "print('-----------------------------------------')    \n",
    "if data_val.__len__()!= 0:\n",
    "    print(f'  -Val Dataset load successfully! total {data_val.__len__()}')\n",
    "    print('  -Val Dataset images shape',data_val.__getitem__(0)[0].shape)\n",
    "    print('  -Val Dataset label shape',data_val.__getitem__(0)[1].shape)\n",
    "else:\n",
    "    print('  --Val dataset load fail--')\n",
    "print('-----------------------------------------')    "
   ]
  },
  {
   "cell_type": "code",
   "execution_count": 3,
   "id": "rocky-disability",
   "metadata": {},
   "outputs": [
    {
     "data": {
      "text/plain": [
       "torch.Size([3, 512, 512])"
      ]
     },
     "execution_count": 3,
     "metadata": {},
     "output_type": "execute_result"
    }
   ],
   "source": [
    "x = data_val.__getitem__(0)[0]\n",
    "x.shape"
   ]
  },
  {
   "cell_type": "code",
   "execution_count": 4,
   "id": "beautiful-saudi",
   "metadata": {},
   "outputs": [
    {
     "name": "stdout",
     "output_type": "stream",
     "text": [
      "==> Computing mean and std..\n"
     ]
    },
    {
     "data": {
      "application/vnd.jupyter.widget-view+json": {
       "model_id": "3615812f4da0461fac34fb2cf24e05df",
       "version_major": 2,
       "version_minor": 0
      },
      "text/plain": [
       "  0%|          | 0/387 [00:00<?, ?it/s]"
      ]
     },
     "metadata": {},
     "output_type": "display_data"
    },
    {
     "name": "stdout",
     "output_type": "stream",
     "text": [
      "tensor([0.4648, 0.3149, 0.3128]) tensor([0.2075, 0.1408, 0.1364])\n",
      "time elapsed:  6.631884336471558\n"
     ]
    }
   ],
   "source": [
    "mean = torch.zeros(3)\n",
    "std = torch.zeros(3)\n",
    "\n",
    "print('==> Computing mean and std..')\n",
    "before = time()\n",
    "for inputs, labels in tqdm(data_loader_val):\n",
    "    for i in range(N_CHANNELS):\n",
    "#         print(inputs.shape)\n",
    "        mean[i] += inputs[:,i,:,:].mean()\n",
    "        std[i] += inputs[:,i,:,:].std()\n",
    "mean.div_(data_val.__len__())\n",
    "std.div_(data_val.__len__())\n",
    "print(mean, std)\n",
    "print(\"time elapsed: \", time()-before)"
   ]
  },
  {
   "cell_type": "code",
   "execution_count": null,
   "id": "transsexual-contract",
   "metadata": {},
   "outputs": [],
   "source": []
  }
 ],
 "metadata": {
  "kernelspec": {
   "display_name": "Python 3",
   "language": "python",
   "name": "python3"
  },
  "language_info": {
   "codemirror_mode": {
    "name": "ipython",
    "version": 3
   },
   "file_extension": ".py",
   "mimetype": "text/x-python",
   "name": "python",
   "nbconvert_exporter": "python",
   "pygments_lexer": "ipython3",
   "version": "3.6.9"
  }
 },
 "nbformat": 4,
 "nbformat_minor": 5
}
