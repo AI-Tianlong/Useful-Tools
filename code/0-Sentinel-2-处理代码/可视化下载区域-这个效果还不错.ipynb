{
 "cells": [
  {
   "cell_type": "markdown",
   "metadata": {},
   "source": [
    "# <font color='4285f4'>G</font><font color='ea4335'>o</font><font color='fbbc05'>o</font><font color='4285f4'>g</font><font color='34a853'>l</font><font color='ea4335'>e</font>  Earth Engine 平台数据集下载方式\n",
    " <font color='red'>（全程需要科学上网）</font>  \n",
    "## 利用 geemap 批量下载 Sentinel-2 数据教程 （其他数据类似）\n",
    "**功能特性：**\n",
    "- 可人为指定起始及终止时间\n",
    "- 可根据区域矢量文件控制下载区域\n",
    "- 可控制波段数\n",
    "- 可控制云量(可直接去云并用多时间段的影像拼接处完整的一副图像)\n",
    "- 不限制下载数量及文件大小（<font color='4285f4'>G</font><font color='ea4335'>o</font><font color='fbbc05'>o</font><font color='4285f4'>g</font><font color='34a853'>l</font><font color='ea4335'>e</font> Earth Engine 平台限制2G大小）\n",
    "\n",
    "**本 Code 的参考教程：**\n",
    "- https://mp.weixin.qq.com/s/rRCXi_c8hcM7uROjahktBw    \n",
    "- https://geemap.org/notebooks/118_download_image/  \n",
    "\n",
    "**全国矢量文件下载地址**\n",
    "- [【阿里云可视化平台】](https://datav.aliyun.com/portal/school/atlas/area_selector)---导出为 json 格式\n",
    "\n",
    "\n",
    "**GEE 平台的数据集目录**\n",
    "- [【Google Earth Engine数据集目录】](https://developers.google.com/earth-engine/datasets/catalog/) \n",
    "- [【哨兵 2 号数据介绍】](https://developers.google.com/earth-engine/datasets/catalog/COPERNICUS_S2_SR)   \n",
    "\n",
    "<div align=\"left\">\n",
    "    <img src=\"https://github.com/AI-Tianlong/Useful-Tools/assets/50650583/61791339-c074-4e96-a0d4-7d55c9057569\" alt=\"NVIDIA-Jetson\" width=\"50%\">  \n",
    "</div>\n",
    "\n",
    "<div align=\"left\">\n",
    "    <p></p>  \n",
    "    <a href='https://github.com/AI-Tianlong'>艾天龙 AI-Tianlong</a>\n",
    "    <p>2024 年 2 月 24</p>  \n",
    "</div>\n",
    "                          "
   ]
  },
  {
   "cell_type": "markdown",
   "metadata": {},
   "source": [
    "## 第 1 步：注册 <font color='4285f4'>G</font><font color='ea4335'>o</font><font color='fbbc05'>o</font><font color='4285f4'>g</font><font color='34a853'>l</font><font color='ea4335'>e</font> Earth Engine 账号\n",
    "\n",
    "访问 [Google Earth Engine](https://code.earthengine.google.com/) 进行注册"
   ]
  },
  {
   "cell_type": "markdown",
   "metadata": {},
   "source": [
    "## 第 2 步：导入 ee 包"
   ]
  },
  {
   "cell_type": "code",
   "execution_count": 1,
   "metadata": {},
   "outputs": [],
   "source": [
    "import ee  #导入ee `pip install earthengine-api`\n",
    "import geemap\n",
    "from IPython.display import Image\n",
    "import datetime\n",
    "import os\n",
    "\n",
    "# 使用 `pip install ATL-Tools` 安装\n",
    "from ATL_Tools import mkdir_or_exist, find_data_list \n",
    "from tqdm import tqdm"
   ]
  },
  {
   "cell_type": "markdown",
   "metadata": {},
   "source": [
    "## 第 3 步：初始化项目\n",
    "授权登录，这一步必须做，\n"
   ]
  },
  {
   "cell_type": "code",
   "execution_count": 6,
   "metadata": {},
   "outputs": [
    {
     "data": {
      "text/html": [
       "\n",
       "            <style>\n",
       "                .geemap-dark {\n",
       "                    --jp-widgets-color: white;\n",
       "                    --jp-widgets-label-color: white;\n",
       "                    --jp-ui-font-color1: white;\n",
       "                    --jp-layout-color2: #454545;\n",
       "                    background-color: #383838;\n",
       "                }\n",
       "\n",
       "                .geemap-dark .jupyter-button {\n",
       "                    --jp-layout-color3: #383838;\n",
       "                }\n",
       "\n",
       "                .geemap-colab {\n",
       "                    background-color: var(--colab-primary-surface-color, white);\n",
       "                }\n",
       "\n",
       "                .geemap-colab .jupyter-button {\n",
       "                    --jp-layout-color3: var(--colab-primary-surface-color, white);\n",
       "                }\n",
       "            </style>\n",
       "            "
      ],
      "text/plain": [
       "<IPython.core.display.HTML object>"
      ]
     },
     "metadata": {},
     "output_type": "display_data"
    }
   ],
   "source": [
    "# 身份验证，会跳转到浏览器进行验证\n",
    "ee.Authenticate() \n",
    "\n",
    "#初始化项目，编号在GEE查看\n",
    "ee.Initialize(project='applied-tractor-343704')  "
   ]
  },
  {
   "cell_type": "code",
   "execution_count": 24,
   "metadata": {},
   "outputs": [
    {
     "data": {
      "text/html": [
       "\n",
       "            <style>\n",
       "                .geemap-dark {\n",
       "                    --jp-widgets-color: white;\n",
       "                    --jp-widgets-label-color: white;\n",
       "                    --jp-ui-font-color1: white;\n",
       "                    --jp-layout-color2: #454545;\n",
       "                    background-color: #383838;\n",
       "                }\n",
       "\n",
       "                .geemap-dark .jupyter-button {\n",
       "                    --jp-layout-color3: #383838;\n",
       "                }\n",
       "\n",
       "                .geemap-colab {\n",
       "                    background-color: var(--colab-primary-surface-color, white);\n",
       "                }\n",
       "\n",
       "                .geemap-colab .jupyter-button {\n",
       "                    --jp-layout-color3: var(--colab-primary-surface-color, white);\n",
       "                }\n",
       "            </style>\n",
       "            "
      ],
      "text/plain": [
       "<IPython.core.display.HTML object>"
      ]
     },
     "metadata": {},
     "output_type": "display_data"
    },
    {
     "name": "stdout",
     "output_type": "stream",
     "text": [
      "转换json为geemapee成功！\n"
     ]
    }
   ],
   "source": [
    "# Harbin_json = \"E:/Datasets/德国作物类型分类融合数据集/brandenburg_crops_test_2019.geojson\"\n",
    "Harbin_json = r\"E:\\\\Datasets\\\\ATL_ATL自建数据集\\\\ATL矢量文件\\\\Geojson格式\\\\中国\\\\县级\\\\黑龙江省\\\\鹤岗市\\\\萝北县.json\"\n",
    "Harbin_ee = geemap.geojson_to_ee(Harbin_json) \n",
    "print(\"转换json为geemapee成功！\")"
   ]
  },
  {
   "cell_type": "code",
   "execution_count": 25,
   "metadata": {},
   "outputs": [
    {
     "data": {
      "text/html": [
       "\n",
       "            <style>\n",
       "                .geemap-dark {\n",
       "                    --jp-widgets-color: white;\n",
       "                    --jp-widgets-label-color: white;\n",
       "                    --jp-ui-font-color1: white;\n",
       "                    --jp-layout-color2: #454545;\n",
       "                    background-color: #383838;\n",
       "                }\n",
       "\n",
       "                .geemap-dark .jupyter-button {\n",
       "                    --jp-layout-color3: #383838;\n",
       "                }\n",
       "\n",
       "                .geemap-colab {\n",
       "                    background-color: var(--colab-primary-surface-color, white);\n",
       "                }\n",
       "\n",
       "                .geemap-colab .jupyter-button {\n",
       "                    --jp-layout-color3: var(--colab-primary-surface-color, white);\n",
       "                }\n",
       "            </style>\n",
       "            "
      ],
      "text/plain": [
       "<IPython.core.display.HTML object>"
      ]
     },
     "metadata": {},
     "output_type": "display_data"
    }
   ],
   "source": [
    "ROI = Harbin_ee\n",
    "ROI = Harbin_ee.geometry().bounds()\n",
    "\n",
    "s2 = ee.ImageCollection('COPERNICUS/S2_HARMONIZED')\n"
   ]
  },
  {
   "cell_type": "code",
   "execution_count": 27,
   "metadata": {},
   "outputs": [
    {
     "data": {
      "text/html": [
       "\n",
       "            <style>\n",
       "                .geemap-dark {\n",
       "                    --jp-widgets-color: white;\n",
       "                    --jp-widgets-label-color: white;\n",
       "                    --jp-ui-font-color1: white;\n",
       "                    --jp-layout-color2: #454545;\n",
       "                    background-color: #383838;\n",
       "                }\n",
       "\n",
       "                .geemap-dark .jupyter-button {\n",
       "                    --jp-layout-color3: #383838;\n",
       "                }\n",
       "\n",
       "                .geemap-colab {\n",
       "                    background-color: var(--colab-primary-surface-color, white);\n",
       "                }\n",
       "\n",
       "                .geemap-colab .jupyter-button {\n",
       "                    --jp-layout-color3: var(--colab-primary-surface-color, white);\n",
       "                }\n",
       "            </style>\n",
       "            "
      ],
      "text/plain": [
       "<IPython.core.display.HTML object>"
      ]
     },
     "metadata": {},
     "output_type": "display_data"
    },
    {
     "data": {
      "application/vnd.jupyter.widget-view+json": {
       "model_id": "14696844541c47fba5bf9ffccbfaeb3d",
       "version_major": 2,
       "version_minor": 0
      },
      "text/plain": [
       "Map(center=[47.7822983424213, 130.5763110682893], controls=(WidgetControl(options=['position', 'transparent_bg…"
      ]
     },
     "execution_count": 27,
     "metadata": {},
     "output_type": "execute_result"
    }
   ],
   "source": [
    "s2 = ee.ImageCollection('COPERNICUS/S2')\n",
    "# 去云1  用得分\n",
    "csPlus = ee.ImageCollection('GOOGLE/CLOUD_SCORE_PLUS/V1/S2_HARMONIZED')\n",
    "QA_BAND = 'cs_cdf'\n",
    "CLEAR_THRESHOLD = 0.60\n",
    "def func_hfm(img):\n",
    "        return img.updateMask(img.select(QA_BAND).gte(CLEAR_THRESHOLD)).divide(10000)\n",
    "composite = s2.filterBounds(ROI) \\\n",
    "    .filterDate('2019-6-1', '2019-9-15') \\\n",
    "    .linkCollection(csPlus, [QA_BAND]) \\\n",
    "    .map(func_hfm) \\\n",
    "    .select('B2', 'B3', 'B4', 'B5', 'B6', 'B7', 'B8', 'B8A', 'B11', 'B12')\n",
    "\n",
    "composite = composite.median().clip(ROI)\n",
    "# composite = composite.mosaic().clip(ROI)\n",
    "\n",
    "# Sentinel-2 visualization parameters.\n",
    "rgbVis = {\n",
    "        'min': 0.0,\n",
    "        'max': 0.3,\n",
    "        'bands': ['B4', 'B3', 'B2'],\n",
    "}\n",
    "# 设置显示样式：color代表边界颜色；fillcolor代表填充颜色\n",
    "styling = {\n",
    "        'color': 'red',\n",
    "        'fillColor': '00000000'\n",
    "}\n",
    "\n",
    "\n",
    "Map = geemap.Map()\n",
    "Map.addLayer(composite, rgbVis, '南岗区S2影像')\n",
    "Map.addLayer(Harbin_ee.style(**styling), {}, \"矢量边界\")  # 将矢量数据添加到地图上\n",
    "Map.centerObject(Harbin_ee, 6)\n",
    "Map\n",
    "\n"
   ]
  },
  {
   "cell_type": "code",
   "execution_count": 29,
   "metadata": {},
   "outputs": [
    {
     "data": {
      "text/html": [
       "\n",
       "            <style>\n",
       "                .geemap-dark {\n",
       "                    --jp-widgets-color: white;\n",
       "                    --jp-widgets-label-color: white;\n",
       "                    --jp-ui-font-color1: white;\n",
       "                    --jp-layout-color2: #454545;\n",
       "                    background-color: #383838;\n",
       "                }\n",
       "\n",
       "                .geemap-dark .jupyter-button {\n",
       "                    --jp-layout-color3: #383838;\n",
       "                }\n",
       "\n",
       "                .geemap-colab {\n",
       "                    background-color: var(--colab-primary-surface-color, white);\n",
       "                }\n",
       "\n",
       "                .geemap-colab .jupyter-button {\n",
       "                    --jp-layout-color3: var(--colab-primary-surface-color, white);\n",
       "                }\n",
       "            </style>\n",
       "            "
      ],
      "text/plain": [
       "<IPython.core.display.HTML object>"
      ]
     },
     "metadata": {},
     "output_type": "display_data"
    },
    {
     "name": "stdout",
     "output_type": "stream",
     "text": [
      "文件将要下载到E:\\\\Datasets\\\\ATL_ATL自建数据集\\\\0-Sentinel2-datasets\\\\中国\\\\县级---第三次下载---时间6.1-9.15---云评分除云\\\\黑龙江省\\\\鹤岗市\\S2_SR_2019_黑龙江省_鹤岗市_萝北县_new.tif\n"
     ]
    },
    {
     "name": "stderr",
     "output_type": "stream",
     "text": [
      "Consider adjusting `region`, `scale` and/or `dtype` to reduce the S2_SR_2019_黑龙江省_鹤岗市_萝北县_new.tif download size (raw: 11.08 GB).\n"
     ]
    },
    {
     "data": {
      "application/vnd.jupyter.widget-view+json": {
       "model_id": "1b01ed7262114e05b771f7697e443893",
       "version_major": 2,
       "version_minor": 0
      },
      "text/plain": [
       "S2_SR_2019_黑龙江省_鹤岗市_萝北县_new.tif: |          | 0.00/11.1G (raw) [  0.0%] in 00:00 (eta:     ?)"
      ]
     },
     "metadata": {},
     "output_type": "display_data"
    }
   ],
   "source": [
    "# 配置输出目录\n",
    "output_file = r'E:\\\\Datasets\\\\ATL_ATL自建数据集\\\\0-Sentinel2-datasets\\\\中国\\\\县级---第三次下载---时间6.1-9.15---云评分除云\\\\黑龙江省\\\\鹤岗市\\S2_SR_2019_黑龙江省_鹤岗市_萝北县_new.tif'\n",
    "\n",
    "print(f'文件将要下载到{output_file}')\n",
    "\n",
    "out_tif = output_file\n",
    "ROI = Harbin_ee.geometry().bounds()\n",
    "\n",
    "# 下载影像\n",
    "geemap.download_ee_image(\n",
    "image=composite,\n",
    "filename=out_tif,\n",
    "region=ROI,\n",
    "crs=\"EPSG:4326\",\n",
    "scale=10,\n",
    ")"
   ]
  },
  {
   "cell_type": "code",
   "execution_count": null,
   "metadata": {},
   "outputs": [],
   "source": []
  }
 ],
 "metadata": {
  "kernelspec": {
   "display_name": "atl-GEE",
   "language": "python",
   "name": "python3"
  },
  "language_info": {
   "codemirror_mode": {
    "name": "ipython",
    "version": 3
   },
   "file_extension": ".py",
   "mimetype": "text/x-python",
   "name": "python",
   "nbconvert_exporter": "python",
   "pygments_lexer": "ipython3",
   "version": "3.10.13"
  }
 },
 "nbformat": 4,
 "nbformat_minor": 2
}
