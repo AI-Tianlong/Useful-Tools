{
 "cells": [
  {
   "cell_type": "markdown",
   "id": "historic-porter",
   "metadata": {},
   "source": [
    "# 该程序是用来切分LoveDA数据的"
   ]
  },
  {
   "cell_type": "code",
   "execution_count": 1,
   "id": "unlimited-classic",
   "metadata": {},
   "outputs": [
    {
     "data": {
      "text/plain": [
       "1155"
      ]
     },
     "execution_count": 1,
     "metadata": {},
     "output_type": "execute_result"
    }
   ],
   "source": [
    "import cv2 # [1]导入OpenCv开源库\n",
    "import numpy as np\n",
    "import glob\n",
    "from matplotlib import pyplot as plt\n",
    "from PIL import Image\n",
    "import time\n",
    "from tqdm import tqdm, trange\n",
    "import os\n",
    "image_path = '/root/master/ATL/dataset/LoveDA_1024/Train/Urban/image/'\n",
    "\n",
    "save_path = '/root/master/ATL/dataset/LoveDA_512/Train/image/'\n",
    "\n",
    "try:\n",
    "    os.makedirs(save_path) #生成一个outfile的文件夹\n",
    "except OSError:\n",
    "    pass\n",
    "\n",
    "src_list = np.array(sorted(glob.glob(image_path  + '*.png')))\n",
    "length = len(src_list)\n",
    "length"
   ]
  },
  {
   "cell_type": "code",
   "execution_count": 2,
   "id": "olive-enemy",
   "metadata": {},
   "outputs": [
    {
     "data": {
      "text/plain": [
       "('/root/master/ATL/dataset/LoveDA_1024/Train/Urban/image/1367.png',\n",
       " (1024, 1024, 3))"
      ]
     },
     "execution_count": 2,
     "metadata": {},
     "output_type": "execute_result"
    }
   ],
   "source": [
    "k = 0\n",
    "img = np.array(Image.open(src_list[0]))\n",
    "src_list[k],img.shape"
   ]
  },
  {
   "cell_type": "code",
   "execution_count": 3,
   "id": "noble-detection",
   "metadata": {},
   "outputs": [
    {
     "data": {
      "text/plain": [
       "2"
      ]
     },
     "execution_count": 3,
     "metadata": {},
     "output_type": "execute_result"
    }
   ],
   "source": [
    "H, W = img.shape[0],img.shape[1]\n",
    "H//512"
   ]
  },
  {
   "cell_type": "code",
   "execution_count": 4,
   "id": "protective-strain",
   "metadata": {},
   "outputs": [
    {
     "name": "stderr",
     "output_type": "stream",
     "text": [
      "正在切分图片: 100%|██████████| 1155/1155 [02:40<00:00,  7.22it/s]\n"
     ]
    }
   ],
   "source": [
    "seq = 1\n",
    "for k in trange(len(src_list), desc='正在切分图片'):  #这里是想画进度条\n",
    "    srcImg = np.array(Image.open(src_list[k]))       #将图片加载到内存\n",
    "    H, W = srcImg.shape[0],srcImg.shape[1]\n",
    "    for i in range(H//512): # row---高   把一张图片分成17*18的四个小图 400*400##将整数和字符串连接在一起\n",
    "        for j in range(W//512): # [2]column-----------width\n",
    "            img_crop = srcImg[(i * 512):((i + 1) * 512), (j* 512):((j + 1) * 512)] #裁切\n",
    "            image_save_path1 = save_path + str(seq) + '.tif'\n",
    "            save_img1 = Image.fromarray(np.uint8(img_crop))\n",
    "            save_img1.save(image_save_path1)\n",
    "\n",
    "#             img_crop_flip = cv2.flip(img_crop, 1)  # 水平翻转\n",
    "#             image_save_path2 = save_path + str(seq) + '_flip.tif'##将整数和字符串连接在一起\n",
    "#             save_img2 = Image.fromarray(np.uint8(img_crop_flip))\n",
    "#             save_img2.save(image_save_path2)\n",
    "\n",
    "            seq = seq + 1\n",
    "#         end = time.time()\n",
    "#         print(f'已完成1张图片的增广,预计耗时{(end - start)*1156}秒')"
   ]
  }
 ],
 "metadata": {
  "kernelspec": {
   "display_name": "Python 3",
   "language": "python",
   "name": "python3"
  },
  "language_info": {
   "codemirror_mode": {
    "name": "ipython",
    "version": 3
   },
   "file_extension": ".py",
   "mimetype": "text/x-python",
   "name": "python",
   "nbconvert_exporter": "python",
   "pygments_lexer": "ipython3",
   "version": "3.6.9"
  }
 },
 "nbformat": 4,
 "nbformat_minor": 5
}
