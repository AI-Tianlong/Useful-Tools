{
 "cells": [
  {
   "cell_type": "markdown",
   "id": "historic-porter",
   "metadata": {},
   "source": [
    "# 该程序是用来切分Vinhingen数据的"
   ]
  },
  {
   "cell_type": "code",
   "execution_count": 27,
   "id": "rolled-community",
   "metadata": {},
   "outputs": [],
   "source": [
    "import cv2 # [1]导入OpenCv开源库\n",
    "import numpy as np\n",
    "import glob\n",
    "from matplotlib import pyplot as plt\n",
    "from PIL import Image\n",
    "import time\n",
    "from tqdm import tqdm, trange\n",
    "import os"
   ]
  },
  {
   "cell_type": "code",
   "execution_count": 28,
   "id": "unlimited-classic",
   "metadata": {},
   "outputs": [],
   "source": [
    "img_size = 512\n",
    "\n",
    "root = 'D:/ATL/Graduation_design/data/Potsdam/Potsdam_data_6000'\n",
    "crop_path_root = 'D:/ATL/Graduation_design/data/Potsdam/Potsdam_data_512'\n",
    "\n",
    "name1 = ['train','val']                 \n",
    "name2 = ['images', 'labels','labels_RGB'] \n",
    "\n",
    "for j in range(len(name1)):\n",
    "    for i in range(len(name2)):\n",
    "        if not os.path.exists(os.path.join(crop_path_root,name1[j],name2[i])):\n",
    "              os.makedirs((os.path.join(crop_path_root,name1[j],name2[i])))\n"
   ]
  },
  {
   "cell_type": "code",
   "execution_count": 29,
   "id": "olive-enemy",
   "metadata": {},
   "outputs": [
    {
     "data": {
      "text/plain": [
       "('top_potsdam_2_10_RGB.tif', (6000, 6000, 3))"
      ]
     },
     "execution_count": 29,
     "metadata": {},
     "output_type": "execute_result"
    }
   ],
   "source": [
    "k = 0\n",
    "src_list = os.listdir(os.path.join(root,name1[0],name2[0]))\n",
    "src_list[0]\n",
    "\n",
    "img = np.array(Image.open(os.path.join(root,name1[0],name2[0],src_list[0])))\n",
    "src_list[0],img.shape"
   ]
  },
  {
   "cell_type": "code",
   "execution_count": 30,
   "id": "noble-detection",
   "metadata": {
    "scrolled": true
   },
   "outputs": [
    {
     "data": {
      "text/plain": [
       "121"
      ]
     },
     "execution_count": 30,
     "metadata": {},
     "output_type": "execute_result"
    }
   ],
   "source": [
    "H, W = img.shape[0],img.shape[1]\n",
    "(H//img_size)**2"
   ]
  },
  {
   "cell_type": "code",
   "execution_count": 31,
   "id": "protective-strain",
   "metadata": {},
   "outputs": [
    {
     "name": "stderr",
     "output_type": "stream",
     "text": [
      "正在切分train images: 100%|██████████| 24/24 [00:38<00:00,  1.62s/it]\n",
      "正在切分train labels: 100%|██████████| 24/24 [00:14<00:00,  1.70it/s]\n",
      "正在切分train labels_RGB: 100%|██████████| 24/24 [00:28<00:00,  1.18s/it]\n",
      "正在切分val images: 100%|██████████| 13/13 [00:15<00:00,  1.20s/it]\n",
      "正在切分val labels: 100%|██████████| 13/13 [00:06<00:00,  2.12it/s]\n",
      "正在切分val labels_RGB:   0%|          | 0/13 [00:00<?, ?it/s]"
     ]
    }
   ],
   "source": [
    "for kk in range(len(name1)):\n",
    "    for kkk in range(len(name2)):\n",
    "        seq = 1\n",
    "        img_list = os.listdir(os.path.join(root,name1[kk],name2[kkk]))\n",
    "        \n",
    "        for index in trange(len(img_list), desc=f'正在切分{name1[kk]} {name2[kkk]}'):  #这里是想画进度条\n",
    "            srcImg = np.array(Image.open(os.path.join(root,name1[kk],name2[kkk],img_list[index])))       #将图片加载到内存\n",
    "\n",
    "            H, W = srcImg.shape[0],srcImg.shape[1]\n",
    "            for i in range(H//img_size): # row---高   把一张图片分成17*18的四个小图 400*400##将整数和字符串连接在一起\n",
    "                for j in range(W//img_size): # [2]column-----------width\n",
    "                    img_crop = srcImg[(i * img_size):((i + 1) * img_size), (j* img_size):((j + 1) * img_size)] #裁切\n",
    "                    \n",
    "                    image_save_path1 = os.path.join(crop_path_root,name1[kk],name2[kkk])+'/'+str(seq) + '.png'\n",
    "                    save_img1 = Image.fromarray(np.uint8(img_crop))\n",
    "                    save_img1.save(image_save_path1)\n",
    "                    seq = seq + 1"
   ]
  },
  {
   "cell_type": "markdown",
   "id": "e2b29110",
   "metadata": {},
   "source": [
    "ii"
   ]
  },
  {
   "cell_type": "code",
   "execution_count": null,
   "id": "bearing-explanation",
   "metadata": {},
   "outputs": [],
   "source": []
  }
 ],
 "metadata": {
  "interpreter": {
   "hash": "c7d35f5d17611b69be1c3c38c3dc94cd6e208ccad0a21a7d754f1aa8e67c9ef4"
  },
  "kernelspec": {
   "display_name": "Python 3.8.0 ('pytorch')",
   "language": "python",
   "name": "python3"
  },
  "language_info": {
   "codemirror_mode": {
    "name": "ipython",
    "version": 3
   },
   "file_extension": ".py",
   "mimetype": "text/x-python",
   "name": "python",
   "nbconvert_exporter": "python",
   "pygments_lexer": "ipython3",
   "version": "3.8.0"
  }
 },
 "nbformat": 4,
 "nbformat_minor": 5
}
