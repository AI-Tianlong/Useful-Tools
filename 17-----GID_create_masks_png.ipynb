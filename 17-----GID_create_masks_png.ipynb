{
 "cells": [
  {
   "cell_type": "markdown",
   "id": "administrative-terminology",
   "metadata": {},
   "source": [
    "# 该程序是用来将GID数据集的vis_png转换成masks__png的"
   ]
  },
  {
   "cell_type": "code",
   "execution_count": 1,
   "id": "owned-ideal",
   "metadata": {},
   "outputs": [],
   "source": [
    "import numpy as np\n",
    "from PIL import Image\n",
    "import glob\n",
    "import time\n",
    "import torch\n",
    "from matplotlib import pyplot as plt "
   ]
  },
  {
   "cell_type": "code",
   "execution_count": 2,
   "id": "czech-lounge",
   "metadata": {},
   "outputs": [],
   "source": [
    "#转换数据集\n",
    "\"\"\"因为，可以看数据集发现，masks_png都是0-1的小数，没有办法训练，所以这里需要转换一下数据集\"\"\"\n",
    "\"\"\"给的代码示例是一次转换一张，现在试试一次性全部转换\"\"\"\n",
    "#类别数 背景-0、建筑-1、农田-2、森林-3、草地-4、水-5。\n",
    "GID_COLOR_MAP = dict(\n",
    "    Background=(0, 0, 0), #0-背景-黑色\n",
    "    Building=(255, 0, 0), #1-建筑-红色\n",
    "    Farmland=(0, 255, 0), #2-农田-绿色\n",
    "    Forest=(0, 0, 255), #3-森林-蓝色\n",
    "    Meadow=(255, 255, 0),#4-草地-黄色\n",
    "    Water=(0, 0, 255),#5-水-蓝色\n",
    ")\n",
    "    \n",
    "GID_COLORMAP = list(GID_COLOR_MAP.values())\n",
    "GID_CLASSES = list(GID_COLOR_MAP.keys())"
   ]
  },
  {
   "cell_type": "code",
   "execution_count": 3,
   "id": "transparent-update",
   "metadata": {},
   "outputs": [],
   "source": [
    "#############用列表来存一个RGB和一个类别的对应################\n",
    "def GID_colormap2label(GID_COLORMAP):   \n",
    "    colormap2label = torch.zeros(256**3,dtype = torch.long)\n",
    "    for i, colormap in enumerate(GID_COLORMAP):\n",
    "        colormap2label[(colormap[0]*256+colormap[1])*256+colormap[2]] = i\n",
    "    return colormap2label\n",
    "\n",
    "#############给定那个列表，和vis_png然后生成masks_png################\n",
    "def GID_label_indices(vis_png, colormap2label):\n",
    "    colormap = vis_png.astype('int32')\n",
    "    idx = (colormap[:,:,0]*256+colormap[:,:,1])*256+colormap[:,:,2]\n",
    "    return colormap2label[idx]"
   ]
  },
  {
   "cell_type": "code",
   "execution_count": 4,
   "id": "electoral-massachusetts",
   "metadata": {},
   "outputs": [],
   "source": [
    "colormap2label = GID_colormap2label(GID_COLORMAP)  #生成标签的那个查找表列表"
   ]
  },
  {
   "cell_type": "code",
   "execution_count": 5,
   "id": "remarkable-momentum",
   "metadata": {},
   "outputs": [],
   "source": [
    "vis_path = '/root/master/ATL/dataset/GID/vis_png/GF2_PMS1__L1A0000564539-MSS1_label.tif' #vis_png的图片路径\n",
    "vis_img = np.array(Image.open(vis_path)) #打开vis_png\n",
    "masks_path = '/root/master/ATL/dataset/GID/masks_png/'+vis_path[37:]\n",
    "masks_png = GID_label_indices(vis_img,colormap2label).numpy()\n",
    "color_img = Image.fromarray(np.uint8(masks_png)) #从np的array格式转换成PIL格式\n",
    "color_img.save(masks_path)"
   ]
  },
  {
   "cell_type": "code",
   "execution_count": 6,
   "id": "opposite-partnership",
   "metadata": {},
   "outputs": [],
   "source": [
    "#把masks_png转换成vis_png\n",
    "def render(mask_path, vis_path):\n",
    "    new_mask = np.array(Image.open(mask_path)).astype(np.uint8) #把原来的图片读出来，存成uint8的格式\n",
    "    cm = np.array(GID_COLORMAP).astype(np.uint8) #取出COLOR_MAP中的值，存到列表\n",
    "    color_img = cm[new_mask]  #这里就变成1024*1024*3的了？ why？？\n",
    "    color_img = Image.fromarray(np.uint8(color_img)) #从np的array格式转换成PIL格式\n",
    "    color_img.save(vis_path)\n",
    "\n",
    "#把vis_png转换成masks_png\n",
    "def create_masks_png(vis_path, masks_path):\n",
    "    vis_img = np.array(Image.open(vis_path)) #打开vis_png\n",
    "    masks_png = GID_label_indices(vis_img,colormap2label).numpy()\n",
    "    color_img = Image.fromarray(np.uint8(masks_png)) #从np的array格式转换成PIL格式\n",
    "    color_img.save(masks_path)"
   ]
  },
  {
   "cell_type": "code",
   "execution_count": 7,
   "id": "suitable-respondent",
   "metadata": {},
   "outputs": [],
   "source": [
    "#数据集的地址    \n",
    "vis_file_path = '/root/master/ATL/dataset/GID/vis_png/'\n",
    "#数据集的地址列表\n",
    "vis_list = np.array(sorted(glob.glob(vis_file_path + '*.tif'))) #把这个文件夹中的图片的地址，以有序的列表形式存放    \n",
    "masks_path = '/root/master/ATL/dataset/GID/masks_png/'"
   ]
  },
  {
   "cell_type": "code",
   "execution_count": 8,
   "id": "prostate-yield",
   "metadata": {},
   "outputs": [],
   "source": [
    "# create_masks_png(vis_list[0], masks_path+vis_list[0][37:])\n",
    "\n",
    "# render(masks_path+vis_list[0][37:],masks_path+'1'+vis_list[0][37:])"
   ]
  },
  {
   "cell_type": "code",
   "execution_count": 10,
   "id": "moderate-limitation",
   "metadata": {},
   "outputs": [
    {
     "name": "stdout",
     "output_type": "stream",
     "text": [
      "vis_png 转换为 masks_png ing......\n",
      "共转换vis_png 15 张,耗时 24.926617860794067 秒\n"
     ]
    }
   ],
   "source": [
    "if __name__ == '__main__':\n",
    "    print('vis_png 转换为 masks_png ing......')\n",
    "    start = time.time()\n",
    "    for i in range(len(vis_list)):\n",
    "        create_masks_png(vis_list[i], masks_path+vis_list[i][37:])\n",
    "    end = time.time()\n",
    "    print(f'共转换vis_png {len(vis_list)} 张,耗时 {(end-start)} 秒')"
   ]
  },
  {
   "cell_type": "code",
   "execution_count": null,
   "id": "intellectual-python",
   "metadata": {},
   "outputs": [],
   "source": []
  }
 ],
 "metadata": {
  "kernelspec": {
   "display_name": "Python 3",
   "language": "python",
   "name": "python3"
  },
  "language_info": {
   "codemirror_mode": {
    "name": "ipython",
    "version": 3
   },
   "file_extension": ".py",
   "mimetype": "text/x-python",
   "name": "python",
   "nbconvert_exporter": "python",
   "pygments_lexer": "ipython3",
   "version": "3.6.9"
  }
 },
 "nbformat": 4,
 "nbformat_minor": 5
}
