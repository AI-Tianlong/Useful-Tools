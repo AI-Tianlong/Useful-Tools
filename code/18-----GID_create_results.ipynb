{
 "cells": [
  {
   "cell_type": "markdown",
   "id": "pretty-feeling",
   "metadata": {},
   "source": [
    "# 该程序是用来将GID在Val数据集的预测结果可视化并保存的"
   ]
  },
  {
   "cell_type": "code",
   "execution_count": 1,
   "id": "quiet-advertising",
   "metadata": {},
   "outputs": [],
   "source": [
    "# 导入所需要用到的包\n",
    "import torch\n",
    "import torch.nn as nn\n",
    "import torch.backends.cudnn as cudnn\n",
    "import torchvision\n",
    "import time\n",
    "import torch.nn.functional as F\n",
    "from numpy import *\n",
    "from matplotlib import pyplot as plt\n",
    "from PIL import Image\n",
    "import d2l\n",
    "import os\n",
    "import numpy as np\n",
    "from measure import SegmentationMetric\n",
    "from dataset import img_dataset   # from xx.py文件 import里面的函数\n",
    "\n",
    "\n",
    "from model_file.DRCANet import DRCANet\n",
    "from model_file.MACUNet import MACUNet   #MACUNet模型\n",
    "from model_file.MANet import MANet   #MACUNet模型\n",
    "\n",
    "from early_stopping import EarlyStopping\n",
    "from tqdm import tqdm, trange\n",
    "import glob\n",
    "\n",
    "import warnings\n",
    "warnings.simplefilter(action='ignore', category=FutureWarning)\n",
    "torch.backends.cudnn.enabled =True\n",
    "# torch.backends.cudnn.benchmark = True\n",
    "import os\n",
    "os.environ['CUDA_LAUNCH_BLOCKING'] = '1'\n",
    "os.environ[\"CUDA_VISIBLE_DEVICES\"] = \"0,1\"\n",
    "\n",
    "%config InlineBackend.figure_format = 'svg'"
   ]
  },
  {
   "cell_type": "code",
   "execution_count": 2,
   "id": "indian-sponsorship",
   "metadata": {},
   "outputs": [
    {
     "name": "stdout",
     "output_type": "stream",
     "text": [
      "2\n"
     ]
    }
   ],
   "source": [
    "print(torch.cuda.device_count())"
   ]
  },
  {
   "cell_type": "code",
   "execution_count": 3,
   "id": "fancy-manner",
   "metadata": {},
   "outputs": [],
   "source": [
    "#一些参数的设置\n",
    "batch_size=1\n",
    "class_num = 6   #类别数 背景-1、建筑-2、道路-3、水-4、贫瘠-5、森林-6、农业-7。没有数据的区域被指定为0，应该忽略 \n",
    "cuda = True\n",
    "num_workers = 12 #读入数据时候的线程\n",
    "band = 3       #通道数，RGB则为3,遥感图像还有其他多光谱的\n",
    "# net = DRCANet(class_num)   #MACUNET网络##########################################################修改网络名字\n",
    "\n",
    "################LoveDA全部数据################\n",
    "# train_path = '/root/master/ATL/MACU-Net-master/data/LoveDA/Train/Urban' #训练集地址\n",
    "# val_path = '/root/master/ATL/MACU-Net-master/data/LoveDA/Val/Urban'     #验证集地址\n",
    "# test_path ='/root/master/ATL/MACU-Net-master/data/LoveDA/Test/Urban'    #测试集地址\n",
    "\n",
    "###############LoveDA小数据测试####################\n",
    "# train_path = '/root/master/ATL/dataset/render/little_data/Train/Urban' #训练集地址\n",
    "# val_path = '/root/master/ATL/dataset/render/little_data/Val/Urban'     #验证集地址\n",
    "# test_path ='/root/master/ATL/dataset/render/little_data/Test/Urban'    #测试集地址\n",
    "\n",
    "###############GID_512数据####################\n",
    "train_path = '/root/master/ATL/dataset/GID_512/Train' #训练集地址\n",
    "val_path = '/root/master/ATL/dataset/GID_512/Val'     #验证集地址\n",
    "test_path ='/root/master/ATL/dataset/GID_512/Val'    #测试集地址\n",
    "\n",
    "# ###############Vaihingen512数据####################\n",
    "# train_path = '/root/master/ATL/dataset/Vaihingen/Vaihingen_512/Train' #训练集地址\n",
    "# val_path = '/root/master/ATL/dataset/Vaihingen/Vaihingen_512/Val'     #验证集地址\n",
    "# test_path ='/root/master/ATL/dataset/Vaihingen/Vaihingen_512/Val'    #测试集地址\n",
    "\n",
    "num_GPU = 1  #GPU的个数\n",
    "\n",
    "# torch.cuda.set_device(0) #设置设备为GPU0？？？？？如果是多个GPU呢？？？\n",
    "# os.environ[\"CUDA_VISIBLE_DEVICES\"] = \"0\""
   ]
  },
  {
   "cell_type": "code",
   "execution_count": 4,
   "id": "agricultural-penetration",
   "metadata": {},
   "outputs": [],
   "source": [
    "##########数据增强的方法，会直接应用到Dataset的 __getitem__(),Dataloader是通过调用__getitem__()来返回数据集的！\n",
    "val_transform = torchvision.transforms.Compose([torchvision.transforms.ToTensor(),#先除以255归一化\n",
    "                                                torchvision.transforms.Normalize(mean=[.485, .456, .406],std=[.229, .224, .225])])"
   ]
  },
  {
   "cell_type": "code",
   "execution_count": 5,
   "id": "domestic-tobago",
   "metadata": {},
   "outputs": [
    {
     "name": "stdout",
     "output_type": "stream",
     "text": [
      "-----------------------------------------\n",
      "  -Val Dataset load successfully! total 364\n",
      "  -Val Dataset images shape torch.Size([3, 512, 512])\n",
      "  -Val Dataset label shape (512, 512)\n",
      "-----------------------------------------\n"
     ]
    }
   ],
   "source": [
    "# ################加载训练集和验证集############\n",
    "data_val = img_dataset(val_path, val_transform)\n",
    "data_loader_val = torch.utils.data.DataLoader(dataset=data_val,\n",
    "                                                # 这里注意batch size要对应放大倍数\n",
    "                                                batch_size = 1, \n",
    "                                                shuffle = True,num_workers=12)\n",
    "real_imgs = img_dataset(val_path)\n",
    "\n",
    "print('-----------------------------------------')    \n",
    "if data_val.__len__()!= 0:\n",
    "    print(f'  -Val Dataset load successfully! total {data_val.__len__()}')\n",
    "    print('  -Val Dataset images shape',data_val.__getitem__(0)[0].shape)\n",
    "    print('  -Val Dataset label shape',data_val.__getitem__(0)[1].shape)\n",
    "else:\n",
    "    print('  --Val dataset load fail--')\n",
    "print('-----------------------------------------')    "
   ]
  },
  {
   "cell_type": "code",
   "execution_count": 6,
   "id": "standard-potter",
   "metadata": {},
   "outputs": [],
   "source": [
    "# 加载模型并进行预测！！\n",
    "########################################## 可视化预测值\n",
    "GID_COLOR_MAP = dict(\n",
    "    Background=(0, 0, 0), #0-背景-黑色\n",
    "    Building=(255, 0, 0), #1-建筑-红色\n",
    "    Farmland=(0, 255, 0), #2-农田-绿色\n",
    "    Forest=(0, 0, 255), #3-森林-蓝色\n",
    "    Meadow=(255, 255, 0),#4-草地-黄色\n",
    "    Water=(0, 0, 255),#5-水-蓝色\n",
    ")\n",
    "\n",
    "def render(mask_image):\n",
    "    new_mask = mask_image.astype(np.uint8) #把原来的图片读出来，存成uint8的格式\n",
    "    cm = np.array(list(GID_COLOR_MAP.values())).astype(np.uint8) #取出COLOR_MAP中的值，存到列表\n",
    "    color_img = cm[new_mask]  #这里就变成1024*1024*3的了？ why？？\n",
    "    color_img = Image.fromarray(np.uint8(color_img)) #从np的array格式转换成PIL格式\n",
    "    return color_img"
   ]
  },
  {
   "cell_type": "code",
   "execution_count": 7,
   "id": "twenty-extension",
   "metadata": {},
   "outputs": [],
   "source": [
    "###################加载模型，加载参数########################\n",
    "model_path = '/root/master/ATL/code/MACUNet/checkpoint/GID/manet/05-06-01_29_37/model_weights.pth'\n",
    "save_file_path = '/root/master/ATL/code/MACUNet/结果图/GID/MANet/mIoU0.71'\n",
    "\n",
    "#================= model =================\n",
    "# net_predict = DRCANet(class_num) #在服务器上，可以用cuda去预测，这里自己的电脑放不下！！\n",
    "# net_predict = MACUNet(band,class_num) #在服务器上，可以用cuda去预测，这里自己的电脑放不下！！\n",
    "net_predict = MANet(band,class_num) #在服务器上，可以用cuda去预测，这里自己的电脑放不下！！\n",
    "\n",
    "#=============== GPU ===================\n",
    "net_predict = nn.DataParallel(net_predict);   #多gpu训练的模型，要加这一句才行\n",
    "net_predict.load_state_dict(torch.load(model_path)) #如果在服务器，不需要map_location='cuda:0'\n",
    "net_predict.cuda();"
   ]
  },
  {
   "cell_type": "code",
   "execution_count": 8,
   "id": "fancy-theater",
   "metadata": {},
   "outputs": [],
   "source": [
    "################读取一张需要进行预测的图片######################\n",
    "try:\n",
    "    os.makedirs(save_file_path) #生成一个outfile的文件夹\n",
    "except OSError:\n",
    "    pass"
   ]
  },
  {
   "cell_type": "code",
   "execution_count": 9,
   "id": "textile-weight",
   "metadata": {},
   "outputs": [
    {
     "data": {
      "text/plain": [
       "'/root/master/ATL/code/MACUNet/结果图/GID/MANet/mIoU0.71/1.tif'"
      ]
     },
     "execution_count": 9,
     "metadata": {},
     "output_type": "execute_result"
    }
   ],
   "source": [
    "save_path =os.path.join(save_file_path,data_val.images_list[0])\n",
    "save_path"
   ]
  },
  {
   "cell_type": "code",
   "execution_count": 10,
   "id": "sacred-disabled",
   "metadata": {},
   "outputs": [
    {
     "data": {
      "text/plain": [
       "(512, 512, 3)"
      ]
     },
     "execution_count": 10,
     "metadata": {},
     "output_type": "execute_result"
    }
   ],
   "source": [
    "real_img = real_imgs.__getitem__(0)[0]\n",
    "real_img.shape"
   ]
  },
  {
   "cell_type": "code",
   "execution_count": 11,
   "id": "electoral-fight",
   "metadata": {},
   "outputs": [
    {
     "data": {
      "text/plain": [
       "torch.Size([3, 512, 512])"
      ]
     },
     "execution_count": 11,
     "metadata": {},
     "output_type": "execute_result"
    }
   ],
   "source": [
    "real_img = data_val.__getitem__(0)[0]\n",
    "real_img.shape"
   ]
  },
  {
   "cell_type": "code",
   "execution_count": null,
   "id": "interpreted-tucson",
   "metadata": {},
   "outputs": [
    {
     "name": "stderr",
     "output_type": "stream",
     "text": [
      "保存ing...:   1%|          | 1/150 [00:01<03:25,  1.38s/it]/usr/local/lib/python3.6/dist-packages/ipykernel_launcher.py:22: MatplotlibDeprecationWarning: Adding an axes using the same arguments as a previous axes currently reuses the earlier instance.  In a future version, a new instance will always be created and returned.  Meanwhile, this warning can be suppressed, and the future behavior ensured, by passing a unique label to each axes instance.\n",
      "/usr/local/lib/python3.6/dist-packages/ipykernel_launcher.py:23: MatplotlibDeprecationWarning: Adding an axes using the same arguments as a previous axes currently reuses the earlier instance.  In a future version, a new instance will always be created and returned.  Meanwhile, this warning can be suppressed, and the future behavior ensured, by passing a unique label to each axes instance.\n",
      "/usr/local/lib/python3.6/dist-packages/ipykernel_launcher.py:24: MatplotlibDeprecationWarning: Adding an axes using the same arguments as a previous axes currently reuses the earlier instance.  In a future version, a new instance will always be created and returned.  Meanwhile, this warning can be suppressed, and the future behavior ensured, by passing a unique label to each axes instance.\n",
      "保存ing...:  33%|███▎      | 49/150 [12:43<47:49, 28.41s/it]"
     ]
    }
   ],
   "source": [
    "start = time.time()    \n",
    "for i in trange(150,desc='保存ing...'):  #data_val.__len__()\n",
    "    real_img = real_imgs.__getitem__(i)[0]\n",
    "    \n",
    "    X = data_val.__getitem__(i)[0]  #更换要读取的图片 ######  real img的地址\n",
    "    \n",
    "    X = X.unsqueeze(0) #变成四维的张量\n",
    "    Y = net_predict(X.cuda()).argmax(dim=1) #X.cuda()#因为训练的时候读进来的数据集-1，所以现在需要加上1 #进行预测！！！\n",
    "    Y.shape\n",
    "    Y = Y.reshape(Y.shape[1], Y.shape[2]) #变成(1024,1024)\n",
    "    Y.shape\n",
    "    predict_images= Y.cpu().numpy()\n",
    "\n",
    "    ########################################## 可视化预测值\n",
    "    predict_img = render(predict_images)\n",
    "\n",
    "    ############################################ 读取vis_png 进行比较\n",
    "    vis_png_path = val_path + '/vis/'+data_val.images_list[i]\n",
    "    guound_truth_img = np.array(Image.open(vis_png_path))\n",
    "\n",
    "    #################################################画图并保存文件\n",
    "    plt.subplot(1,3,1),plt.imshow(real_img),plt.title('real img'),plt.xticks([]),plt.yticks([]) #隐藏掉坐标轴\n",
    "    plt.subplot(1,3,2),plt.imshow(guound_truth_img),plt.title('groung truth'),plt.xticks([]),plt.yticks([])\n",
    "    plt.subplot(1,3,3),plt.imshow(predict_img),plt.title('predict img'),plt.xticks([]),plt.yticks([])\n",
    "\n",
    "    f = plt.gcf()\n",
    "    save_path = os.path.join(save_file_path,data_val.images_list[i])\n",
    "    f.savefig(save_path,dpi=800,bbox_inches = 'tight')\n",
    "\n",
    "end = time.time()\n",
    "print(f'共保存完成 {data_val.__len__()} 张图像, 耗时 {end-start} 秒')"
   ]
  },
  {
   "cell_type": "code",
   "execution_count": null,
   "id": "entire-symposium",
   "metadata": {},
   "outputs": [],
   "source": []
  }
 ],
 "metadata": {
  "kernelspec": {
   "display_name": "Python 3",
   "language": "python",
   "name": "python3"
  },
  "language_info": {
   "codemirror_mode": {
    "name": "ipython",
    "version": 3
   },
   "file_extension": ".py",
   "mimetype": "text/x-python",
   "name": "python",
   "nbconvert_exporter": "python",
   "pygments_lexer": "ipython3",
   "version": "3.6.9"
  }
 },
 "nbformat": 4,
 "nbformat_minor": 5
}
