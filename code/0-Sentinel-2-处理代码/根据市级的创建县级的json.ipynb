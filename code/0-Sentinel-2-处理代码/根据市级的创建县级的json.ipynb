{
 "cells": [
  {
   "cell_type": "code",
   "execution_count": 1,
   "metadata": {},
   "outputs": [],
   "source": [
    "from ATL_Tools  import mkdir_or_exist, find_data_list\n",
    "import json\n",
    "import os\n",
    "from tqdm import trange, tqdm"
   ]
  },
  {
   "cell_type": "code",
   "execution_count": 2,
   "metadata": {},
   "outputs": [],
   "source": [
    "# 读取json文件\n",
    "def read_json(json_file):\n",
    "    with open(json_file, 'r') as f:\n",
    "        data = json.load(f)\n",
    "    return data\n"
   ]
  },
  {
   "cell_type": "code",
   "execution_count": 7,
   "metadata": {},
   "outputs": [
    {
     "name": "stdout",
     "output_type": "stream",
     "text": [
      "--------------------------------------------------------------\n",
      "-- 正在读取数据集列表... \"矢量文件/市级/黑龙江省/\" \n",
      "-- 共在 \"矢量文件/市级/黑龙江省/\" 下寻找到图片 13 张\n",
      "-------------------------------------------------------------\n"
     ]
    },
    {
     "name": "stderr",
     "output_type": "stream",
     "text": [
      "100%|██████████| 13/13 [00:00<00:00, 57.00it/s]"
     ]
    },
    {
     "name": "stdout",
     "output_type": "stream",
     "text": [
      " -- 创建县级json文件完成！\n"
     ]
    },
    {
     "name": "stderr",
     "output_type": "stream",
     "text": [
      "\n"
     ]
    }
   ],
   "source": [
    "city_json_path = \"../ATL矢量文件/Geojson格式/中国/市级/吉林省/\"\n",
    "save_path = \"../ATL矢量文件/Geojson格式/中国/县级/吉林省/\"\n",
    "mkdir_or_exist(save_path)\n",
    "city_json_list = find_data_list(city_json_path, '.json')\n",
    "\n",
    "mkdir_or_exist(save_path)\n",
    "\n",
    "for big_city_json in tqdm(city_json_list):\n",
    "    # 读取了json文件\n",
    "    city_json = read_json(big_city_json)\n",
    "    # 创造新的json文件\n",
    "\n",
    "    for i in range(len(city_json['features'])):\n",
    "        \n",
    "        mkdir_or_exist(os.path.join(\n",
    "            save_path,os.path.basename(big_city_json).split('.')[0]))\n",
    "        \n",
    "        new_json_file_path = os.path.join(\n",
    "            save_path, \n",
    "            os.path.basename(big_city_json).split('.')[0], \n",
    "            city_json['features'][i]['properties']['name'] + '.json')\n",
    "        # print(f'保存至 {new_json_file_path}')\n",
    "\n",
    "        new_json_content = {\n",
    "            \"type\": \"FeatureCollection\",\n",
    "            \"features\": [city_json['features'][i]]\n",
    "        }\n",
    "\n",
    "        with open(new_json_file_path, 'w') as f:\n",
    "            json.dump(new_json_content, f)\n",
    "\n",
    "print(\" -- 创建县级json文件完成！\")"
   ]
  },
  {
   "cell_type": "code",
   "execution_count": null,
   "metadata": {},
   "outputs": [],
   "source": []
  }
 ],
 "metadata": {
  "kernelspec": {
   "display_name": "atl-GEE",
   "language": "python",
   "name": "python3"
  },
  "language_info": {
   "codemirror_mode": {
    "name": "ipython",
    "version": 3
   },
   "file_extension": ".py",
   "mimetype": "text/x-python",
   "name": "python",
   "nbconvert_exporter": "python",
   "pygments_lexer": "ipython3",
   "version": "3.10.13"
  }
 },
 "nbformat": 4,
 "nbformat_minor": 2
}
