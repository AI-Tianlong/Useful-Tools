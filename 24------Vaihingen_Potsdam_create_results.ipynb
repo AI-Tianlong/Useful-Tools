{
 "cells": [
  {
   "cell_type": "markdown",
   "id": "secure-magnitude",
   "metadata": {},
   "source": [
    "# 该程序是用来将Vaihingen在Val数据集的预测结果可视化并保存的"
   ]
  },
  {
   "cell_type": "code",
   "execution_count": 46,
   "id": "embedded-hormone",
   "metadata": {},
   "outputs": [],
   "source": [
    "# 导入所需要用到的包\n",
    "import torch\n",
    "import torch.nn as nn\n",
    "import torch.backends.cudnn as cudnn\n",
    "import torchvision\n",
    "import time\n",
    "import torch.nn.functional as F\n",
    "from numpy import *\n",
    "from matplotlib import pyplot as plt\n",
    "from PIL import Image\n",
    "import d2l\n",
    "import os\n",
    "import numpy as np\n",
    "from measure import SegmentationMetric\n",
    "from dataset import img_dataset   # from xx.py文件 import里面的函数\n",
    "\n",
    "\n",
    "from model_file.MACUNet import MACUNet      #MACUNet模型\n",
    "from model_file.MANet import MANet         #MACUNet模型\n",
    "from model_file.DRCANet import DRCANet      #DRCANet模型\n",
    "from model_file.UNet import UNet          #UNet模型   \n",
    "from model_file.ICNet.model import ICNet     #ICNet模型 \n",
    "from model_file.BiSeNet.model import BiSeNet  #BiseNet模型 双边网络\n",
    "\n",
    "from early_stopping import EarlyStopping\n",
    "from tqdm import tqdm, trange\n",
    "import glob\n",
    "\n",
    "import warnings\n",
    "warnings.simplefilter(action='ignore', category=FutureWarning)\n",
    "torch.backends.cudnn.enabled =True\n",
    "# torch.backends.cudnn.benchmark = True\n",
    "import os\n",
    "os.environ['CUDA_LAUNCH_BLOCKING'] = '1'\n",
    "os.environ[\"CUDA_VISIBLE_DEVICES\"] = \"0,1\"\n",
    "\n",
    "%config InlineBackend.figure_format = 'svg'"
   ]
  },
  {
   "cell_type": "code",
   "execution_count": 47,
   "id": "transsexual-therapist",
   "metadata": {},
   "outputs": [
    {
     "name": "stdout",
     "output_type": "stream",
     "text": [
      "2\n"
     ]
    }
   ],
   "source": [
    "print(torch.cuda.device_count())"
   ]
  },
  {
   "cell_type": "code",
   "execution_count": 48,
   "id": "normal-federal",
   "metadata": {},
   "outputs": [],
   "source": [
    "#一些参数的设置\n",
    "batch_size=1\n",
    "class_num = 6   #类别数 背景-1、建筑-2、道路-3、水-4、贫瘠-5、森林-6、农业-7。没有数据的区域被指定为0，应该忽略 \n",
    "cuda = True\n",
    "num_workers = 12 #读入数据时候的线程\n",
    "band = 3       #通道数，RGB则为3,遥感图像还有其他多光谱的\n",
    "# net = DRCANet(class_num)   #MACUNET网络##########################################################修改网络名字\n",
    "\n",
    "\n",
    "# ###############Vaihingen数据####################\n",
    "# train_path = '/root/master/ATL/dataset/Vaihingen/Vaihingen_512/Train' #训练集地址\n",
    "# val_path = '/root/master/ATL/dataset/Vaihingen/Vaihingen_512/Val'     #验证集地址\n",
    "\n",
    "# ###############Potsdam数据####################\n",
    "train_path = '/root/master/ATL/dataset/Potsdam_512/Train' #训练集地址\n",
    "val_path = '/root/master/ATL/dataset/Potsdam_512/Val'     #验证集地址\n",
    "\n",
    "\n",
    "num_GPU = 1  #GPU的个数\n",
    "\n",
    "# torch.cuda.set_device(0) #设置设备为GPU0？？？？？如果是多个GPU呢？？？\n",
    "# os.environ[\"CUDA_VISIBLE_DEVICES\"] = \"0\""
   ]
  },
  {
   "cell_type": "code",
   "execution_count": 49,
   "id": "conservative-gasoline",
   "metadata": {},
   "outputs": [],
   "source": [
    "##########数据增强的方法，会直接应用到Dataset的 __getitem__(),Dataloader是通过调用__getitem__()来返回数据集的！\n",
    "val_transform = torchvision.transforms.Compose([torchvision.transforms.ToTensor(),#先除以255归一化\n",
    "                                                torchvision.transforms.Normalize(mean=[.485, .456, .406],std=[.229, .224, .225])])"
   ]
  },
  {
   "cell_type": "code",
   "execution_count": 50,
   "id": "educated-thickness",
   "metadata": {},
   "outputs": [
    {
     "name": "stdout",
     "output_type": "stream",
     "text": [
      "-----------------------------------------\n",
      "  -Val Dataset load successfully! total 363\n",
      "  -Val Dataset images shape torch.Size([3, 512, 512])\n",
      "  -Val Dataset label shape (512, 512)\n",
      "-----------------------------------------\n"
     ]
    }
   ],
   "source": [
    "# ################加载训练集和验证集############\n",
    "data_val = img_dataset(val_path, val_transform)\n",
    "data_loader_val = torch.utils.data.DataLoader(dataset=data_val,\n",
    "                                                # 这里注意batch size要对应放大倍数\n",
    "                                                batch_size = 1, \n",
    "                                                shuffle = True,num_workers=12)\n",
    "real_imgs = img_dataset(val_path)\n",
    "\n",
    "print('-----------------------------------------')    \n",
    "if data_val.__len__()!= 0:\n",
    "    print(f'  -Val Dataset load successfully! total {data_val.__len__()}')\n",
    "    print('  -Val Dataset images shape',data_val.__getitem__(0)[0].shape)\n",
    "    print('  -Val Dataset label shape',data_val.__getitem__(0)[1].shape)\n",
    "else:\n",
    "    print('  --Val dataset load fail--')\n",
    "print('-----------------------------------------')    "
   ]
  },
  {
   "cell_type": "code",
   "execution_count": 51,
   "id": "automotive-immunology",
   "metadata": {},
   "outputs": [],
   "source": [
    "# 加载模型并进行预测！！\n",
    "########################################## 可视化预测值\n",
    "GID_COLOR_MAP = dict(\n",
    "    Background=(255, 0, 0),#0-背景-红色\n",
    "    Building=(0, 0, 255), #1-建筑-蓝色\n",
    "    di_ai_zhi_bei=(0, 255, 255), #2-低矮植被-青色\n",
    "    Tree=(0, 255, 0), #3-树-绿色\n",
    "    car=(255, 255, 0),#4-汽车-黄色\n",
    "    bu_tou_shui_mian=(255, 255, 255), #5-不透水面-白色\n",
    ")\n",
    "\n",
    "def render(mask_image):\n",
    "    new_mask = mask_image.astype(np.uint8) #把原来的图片读出来，存成uint8的格式\n",
    "    cm = np.array(list(GID_COLOR_MAP.values())).astype(np.uint8) #取出COLOR_MAP中的值，存到列表\n",
    "    color_img = cm[new_mask]  #这里就变成1024*1024*3的了？ why？？\n",
    "    color_img = Image.fromarray(np.uint8(color_img)) #从np的array格式转换成PIL格式\n",
    "    return color_img"
   ]
  },
  {
   "cell_type": "code",
   "execution_count": 64,
   "id": "radical-evans",
   "metadata": {},
   "outputs": [],
   "source": [
    "###################加载模型，加载参数########################\n",
    "#unet\n",
    "# model_path = '/root/master/ATL/code/MACUNet/checkpoint/Potsdam/unet/05-08-15_42_24/model_weights.pth'\n",
    "# save_file_path = '/root/master/ATL/code/MACUNet/结果图/Potsdam/unet/Size_512/'\n",
    "# net_predict = UNet(3,class_num)\n",
    "\n",
    "#drcanet\n",
    "# model_path = '/root/master/ATL/code/MACUNet/checkpoint/Potsdam/drcanet/05-08-01_06_12/model_weights.pth'\n",
    "# save_file_path = '/root/master/ATL/code/MACUNet/结果图/Potsdam/drcanet/Size_512/'\n",
    "# net_predict = DRCANet(class_num) \n",
    "\n",
    "#manet\n",
    "# model_path = '/root/master/ATL/code/MACUNet/checkpoint/Potsdam/manet/05-08-01_04_08/model_weights.pth'\n",
    "# save_file_path = '/root/master/ATL/code/MACUNet/结果图/Potsdam/manet/Size_512/'\n",
    "# net_predict = MANet(band,class_num) \n",
    "\n",
    "#macunet\n",
    "# model_path = '/root/master/ATL/code/MACUNet/checkpoint/Potsdam/macunet/05-08-01_03_23/model_weights.pth'\n",
    "# save_file_path = '/root/master/ATL/code/MACUNet/结果图/Potsdam/macunet/Size_512/'\n",
    "# net_predict = MACUNet(band,class_num) \n",
    "\n",
    "# icnet\n",
    "# model_path = '/root/master/ATL/code/MACUNet/checkpoint/Potsdam/icnet/05-09-12_05_44/model_weights.pth'\n",
    "# save_file_path = '/root/master/ATL/code/MACUNet/结果图/Potsdam/icnet/Size_512/'\n",
    "# net_predict = ICNet(nclass=class_num)\n",
    "\n",
    "#bisenet\n",
    "model_path = '/root/master/ATL/code/MACUNet/checkpoint/Potsdam/bisenet/05-09-10_07_24/model_weights.pth'\n",
    "save_file_path = '/root/master/ATL/code/MACUNet/结果图/Potsdam/bisenet/Size_512/'\n",
    "net_predict = BiSeNet(num_classes=class_num, context_path='resnet18')\n",
    "\n",
    "os.environ[\"CUDA_VISIBLE_DEVICES\"] = '1'\n",
    "net_predict = nn.DataParallel(net_predict);   #多gpu训练的模型，要加这一句才行\n",
    "net_predict.load_state_dict(torch.load(model_path)) #如果在服务器，不需要map_location='cuda:0'\n",
    "net_predict.cuda();"
   ]
  },
  {
   "cell_type": "code",
   "execution_count": 65,
   "id": "wrong-mathematics",
   "metadata": {},
   "outputs": [],
   "source": [
    "################读取一张需要进行预测的图片######################\n",
    "try:\n",
    "    os.makedirs(save_file_path) #生成一个outfile的文件夹\n",
    "except OSError:\n",
    "    pass"
   ]
  },
  {
   "cell_type": "code",
   "execution_count": 66,
   "id": "certain-yeast",
   "metadata": {
    "scrolled": false
   },
   "outputs": [
    {
     "name": "stderr",
     "output_type": "stream",
     "text": [
      "保存ing...: 100%|██████████| 50/50 [00:33<00:00,  1.48it/s]"
     ]
    },
    {
     "name": "stdout",
     "output_type": "stream",
     "text": [
      "共保存完成 363 张图像, 耗时 33.87263035774231 秒\n"
     ]
    },
    {
     "name": "stderr",
     "output_type": "stream",
     "text": [
      "\n"
     ]
    },
    {
     "data": {
      "text/plain": [
       "<Figure size 432x288 with 0 Axes>"
      ]
     },
     "metadata": {},
     "output_type": "display_data"
    }
   ],
   "source": [
    "start = time.time()    \n",
    "for i in trange(50,desc='保存ing...'):\n",
    "    real_img = real_imgs.__getitem__(i)[0]\n",
    "    \n",
    "    X = data_val.__getitem__(i)[0]  #更换要读取的图片 ######  real img的地址\n",
    "    \n",
    "    X = X.unsqueeze(0) #变成四维的张量\n",
    "    Y = net_predict(X.cuda()).argmax(dim=1) #X.cuda()#\n",
    "    Y.shape\n",
    "    Y = Y.reshape(Y.shape[1], Y.shape[2]) #变成(1024,1024)\n",
    "    Y.shape\n",
    "    predict_images= Y.cpu().numpy()\n",
    "    \n",
    "    \n",
    "\n",
    "    ########################################## 可视化预测值\n",
    "    predict_img = render(predict_images)\n",
    "\n",
    "    ############################################ 读取vis_png 进行比较\n",
    "    vis_png_path = val_path + '/vis/'+data_val.images_list[i]\n",
    "    guound_truth_img = np.array(Image.open(vis_png_path))\n",
    "\n",
    "    #################################################画图并保存文件\n",
    "    plt.subplot(1,3,1),plt.imshow(real_img),plt.title('real img'),plt.xticks([]),plt.yticks([]) #隐藏掉坐标轴\n",
    "    plt.subplot(1,3,2),plt.imshow(guound_truth_img),plt.title('ground truth'),plt.xticks([]),plt.yticks([])\n",
    "    plt.subplot(1,3,3),plt.imshow(predict_img),plt.title('predict img'),plt.xticks([]),plt.yticks([])\n",
    "\n",
    "    f = plt.gcf()\n",
    "    save_path = os.path.join(save_file_path,data_val.images_list[i])\n",
    "    f.savefig(save_path,dpi=500,bbox_inches = 'tight')\n",
    "    plt.clf()  #清理内存，不然会越来越慢 越来越慢\n",
    "    \n",
    "#     del X, predict_img, predict_images, Y ,f\n",
    "#     torch.cuda.empty_cache()\n",
    "\n",
    "end = time.time()\n",
    "print(f'共保存完成 {data_val.__len__()} 张图像, 耗时 {end-start} 秒')"
   ]
  },
  {
   "cell_type": "code",
   "execution_count": null,
   "id": "cloudy-miller",
   "metadata": {},
   "outputs": [],
   "source": []
  }
 ],
 "metadata": {
  "kernelspec": {
   "display_name": "Python 3",
   "language": "python",
   "name": "python3"
  },
  "language_info": {
   "codemirror_mode": {
    "name": "ipython",
    "version": 3
   },
   "file_extension": ".py",
   "mimetype": "text/x-python",
   "name": "python",
   "nbconvert_exporter": "python",
   "pygments_lexer": "ipython3",
   "version": "3.6.9"
  }
 },
 "nbformat": 4,
 "nbformat_minor": 5
}
