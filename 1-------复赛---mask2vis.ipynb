{
 "cells": [
  {
   "cell_type": "markdown",
   "id": "regulation-programming",
   "metadata": {},
   "source": [
    "# 该程序可以直接将三位数的标签，转换为RGB\n",
    "即经过 proprocess.py后直接运行即可。"
   ]
  },
  {
   "cell_type": "code",
   "execution_count": 2,
   "id": "d182316e",
   "metadata": {},
   "outputs": [
    {
     "name": "stdout",
     "output_type": "stream",
     "text": [
      "10778\n",
      "vis_png 转换ing...\n"
     ]
    },
    {
     "name": "stderr",
     "output_type": "stream",
     "text": [
      "100%|██████████| 10778/10778 [02:06<00:00, 85.50it/s]\n"
     ]
    }
   ],
   "source": [
    "#============================ #数据集的地址 只需要修改这个地方 =========================\n",
    "masks_file_path = r'D:\\ATL\\SIRS\\chusai\\FuSai\\Dataset\\fusai_release\\train\\labels_18'     #三位数标签路径\n",
    "vis_file_path   = r'D:\\ATL\\SIRS\\chusai\\FuSai\\Dataset\\fusai_release\\train\\labels_18_RGB'  #转为RGB后的标签存储路径,程序会自动创建文件夹！\n",
    "#=======================================================================================\n",
    "\n",
    "import numpy as np\n",
    "from PIL import Image\n",
    "import glob\n",
    "import time\n",
    "from tqdm import tqdm,trange\n",
    "import os\n",
    "\n",
    "os.environ[\"KMP_DUPLICATE_LIB_OK\"]=\"TRUE\"\n",
    "\n",
    "if not os.path.exists(vis_file_path):\n",
    "    os.mkdir(vis_file_path)\n",
    "\n",
    "#=============================================  Mask To RGB====================================\n",
    "#=============  类别数 RGB ==================\n",
    "COLOR_MAP = dict(\n",
    "    IGNORE=(0, 0, 0),             #0-背景-黑色   ，在测评的时候会被忽视掉\n",
    "    Water=(0, 0, 255),            #101--水体\n",
    "    Road=(128, 128, 128),         #202--道路\n",
    "    Building=(255,128,128),       #303--建筑\n",
    "    Airport=(192,192,192),        #204--机场\n",
    "    TrainStation=(145,204,117),   #205--火车场\n",
    "    GuangFu=(80,100,115),         #806--光伏\n",
    "    Parking=(70,70,70),           #807--停车场\n",
    "    Gym=(255,74,74),              #808--操场\n",
    "    Agricultural=(255, 255, 0),   #409--普通耕地\n",
    "    DaPeng=(234,234,234),         #410--农业大棚\n",
    "    GrassLand=(0, 255, 0),        #511--自然草地\n",
    "    Human_GrassLand=(183,255,183),#512--绿地绿化\n",
    "    Forest=(0,128,0),             #613--自然林\n",
    "    Human_Forest=(0,190,0),       #614--人工林\n",
    "    Barren=(128,64,0),            #715--自然裸土\n",
    "    Human_Barren=(255,128,0),     #716--人为裸土\n",
    "    Others=(255, 0, 0)            #817--无法确定的\n",
    "    )\n",
    "\n",
    "def render(mask_17_img, vis_path):  #(3位数标签变为2位数之后的img，np格式)\n",
    "    new_mask = mask_17_img.astype(np.uint8) #把原来的图片读出来，存成uint8的格式\n",
    "    cm = np.array(list(COLOR_MAP.values())).astype(np.uint8) #取出COLOR_MAP中的值，存到列表\n",
    "    color_img = cm[new_mask]  #这里就变成1024*1024*3的了？ why？？\n",
    "    color_img = Image.fromarray(np.uint8(color_img)) #从np的array格式转换成PIL格式\n",
    "    color_img.save(vis_path)\n",
    "    \n",
    "#数据集的名字列表\n",
    "masks_list = os.listdir(masks_file_path) #把这个文件夹中的图片的地址，以有序的列表形式存放 \n",
    "print(len(masks_list))\n",
    "\n",
    "class_list = [000,101, 202, 303, 204, 205, 806, 807, 808, 409, 410, 511, 512, 613, 614, 715, 716, 817]\n",
    "\n",
    "if __name__ == '__main__':\n",
    "    print('vis_png 转换ing...')\n",
    "    \n",
    "    for index in trange(len(masks_list)):\n",
    "        label = np.array(Image.open(os.path.join(masks_file_path, masks_list[index])))\n",
    "        # for j in range(len(class_list)):\n",
    "        #     label[np.where(label==class_list[j])] = j\n",
    "\n",
    "        render(label,os.path.join(vis_file_path,masks_list[index])) #训练集是43 测试集是45"
   ]
  },
  {
   "cell_type": "code",
   "execution_count": null,
   "id": "e9acd292",
   "metadata": {},
   "outputs": [],
   "source": []
  }
 ],
 "metadata": {
  "kernelspec": {
   "display_name": "Python (pytorch)",
   "language": "python",
   "name": "pytorch"
  },
  "language_info": {
   "codemirror_mode": {
    "name": "ipython",
    "version": 3
   },
   "file_extension": ".py",
   "mimetype": "text/x-python",
   "name": "python",
   "nbconvert_exporter": "python",
   "pygments_lexer": "ipython3",
   "version": "3.9.0"
  }
 },
 "nbformat": 4,
 "nbformat_minor": 5
}
