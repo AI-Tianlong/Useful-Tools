{
 "cells": [
  {
   "cell_type": "markdown",
   "id": "nearby-margin",
   "metadata": {},
   "source": [
    "# 该程序是用来将Vaihingen数据集的vis_png转换为masks_png的"
   ]
  },
  {
   "cell_type": "code",
   "execution_count": 4,
   "id": "defined-client",
   "metadata": {},
   "outputs": [],
   "source": [
    "import numpy as np\n",
    "from PIL import Image\n",
    "import glob\n",
    "import time\n",
    "import torch\n",
    "from matplotlib import pyplot as plt \n",
    "from tqdm import tqdm, trange"
   ]
  },
  {
   "cell_type": "code",
   "execution_count": 5,
   "id": "mechanical-benefit",
   "metadata": {},
   "outputs": [],
   "source": [
    "#转换数据集\n",
    "\"\"\"因为，可以看数据集发现，masks_png都是0-1的小数，没有办法训练，所以这里需要转换一下数据集\"\"\"\n",
    "\"\"\"给的代码示例是一次转换一张，现在试试一次性全部转换\"\"\"\n",
    "#类别数 背景-0、建筑-1、农田-2、森林-3、草地-4、水-5。\n",
    "\n",
    "GID_COLOR_MAP = dict(\n",
    "    Background=(255, 0, 0),#0-背景-红色\n",
    "    Building=(0, 0, 255), #1-建筑-蓝色\n",
    "    di_ai_zhi_bei=(0, 255, 255), #2-低矮植被-青色\n",
    "    Tree=(0, 255, 0), #3-树-绿色\n",
    "    car=(255, 255, 0),#4-汽车-黄色\n",
    "    bu_tou_shui_mian=(255, 255, 255), #5-不透水面-白色\n",
    ")\n",
    "    \n",
    "GID_COLORMAP = list(GID_COLOR_MAP.values())\n",
    "GID_CLASSES = list(GID_COLOR_MAP.keys())"
   ]
  },
  {
   "cell_type": "code",
   "execution_count": 6,
   "id": "brave-commons",
   "metadata": {},
   "outputs": [],
   "source": [
    "#############用列表来存一个RGB和一个类别的对应################\n",
    "def GID_colormap2label(GID_COLORMAP):   \n",
    "    colormap2label = torch.zeros(256**3,dtype = torch.long)\n",
    "    for i, colormap in enumerate(GID_COLORMAP):\n",
    "        colormap2label[(colormap[0]*256+colormap[1])*256+colormap[2]] = i\n",
    "    return colormap2label\n",
    "\n",
    "#############给定那个列表，和vis_png然后生成masks_png################\n",
    "def GID_label_indices(vis_png, colormap2label):\n",
    "    colormap = vis_png.astype('int32')\n",
    "    idx = (colormap[:,:,0]*256+colormap[:,:,1])*256+colormap[:,:,2]\n",
    "    return colormap2label[idx]\n",
    "\n",
    "colormap2label = GID_colormap2label(GID_COLORMAP)  #生成标签的那个查找表列表"
   ]
  },
  {
   "cell_type": "code",
   "execution_count": 7,
   "id": "conventional-amsterdam",
   "metadata": {},
   "outputs": [],
   "source": [
    "#把masks_png转换成vis_png\n",
    "def render(mask_path, vis_path):\n",
    "    new_mask = np.array(Image.open(mask_path)).astype(np.uint8) #把原来的图片读出来，存成uint8的格式\n",
    "    cm = np.array(GID_COLORMAP).astype(np.uint8) #取出COLOR_MAP中的值，存到列表\n",
    "    color_img = cm[new_mask]  #这里就变成1024*1024*3的了？ why？？\n",
    "    color_img = Image.fromarray(np.uint8(color_img)) #从np的array格式转换成PIL格式\n",
    "    color_img.save(vis_path)\n",
    "\n",
    "#把vis_png转换成masks_png\n",
    "def create_masks_png(vis_path, masks_path):\n",
    "    vis_img = np.array(Image.open(vis_path)) #打开vis_png\n",
    "    masks_png = GID_label_indices(vis_img,colormap2label).numpy()\n",
    "    color_img = Image.fromarray(np.uint8(masks_png)) #从np的array格式转换成PIL格式\n",
    "    color_img.save(masks_path)"
   ]
  },
  {
   "cell_type": "code",
   "execution_count": 10,
   "id": "established-brother",
   "metadata": {},
   "outputs": [],
   "source": [
    "#数据集的地址    \n",
    "vis_file_path = 'D:/ATL/Graduation_design/data/Potsdam/Potsdam_data_6000/Val/labels_RGB'\n",
    "masks_path = 'D:/ATL/Graduation_design/data/Potsdam/Potsdam_data_6000/Val/labels'    #要保存的地方\n",
    "\n",
    "#数据集的地址列表\n",
    "# vis_list = np.array(sorted(glob.glob(vis_file_path + '*.tif'))) #把这个文件夹中的图片的地址，以有序的列表形式存放    \n",
    "vis_list = os.listdir(vis_file_path)\n",
    "\n",
    "if not os.path.exists(masks_path):\n",
    "    os.mkdir(masks_path)"
   ]
  },
  {
   "cell_type": "code",
   "execution_count": 11,
   "id": "correct-afternoon",
   "metadata": {},
   "outputs": [
    {
     "name": "stderr",
     "output_type": "stream",
     "text": [
      "vis_png 转换为 masks_png ing......: 100%|██████████| 13/13 [00:11<00:00,  1.12it/s]"
     ]
    },
    {
     "name": "stdout",
     "output_type": "stream",
     "text": [
      "共转换vis_png 13 张,耗时 11.570314645767212 秒\n"
     ]
    },
    {
     "name": "stderr",
     "output_type": "stream",
     "text": [
      "\n"
     ]
    }
   ],
   "source": [
    "if __name__ == '__main__':\n",
    "    start = time.time()\n",
    "    for index in trange(len(vis_list), desc='vis_png 转换为 masks_png ing......'):\n",
    "        create_masks_png(os.path.join(vis_file_path,vis_list[index]),os.path.join(masks_path,vis_list[index]))\n",
    "    end = time.time()\n",
    "    print(f'共转换vis_png {len(vis_list)} 张,耗时 {(end-start)} 秒')"
   ]
  },
  {
   "cell_type": "code",
   "execution_count": null,
   "id": "roman-earth",
   "metadata": {},
   "outputs": [],
   "source": []
  }
 ],
 "metadata": {
  "interpreter": {
   "hash": "c7d35f5d17611b69be1c3c38c3dc94cd6e208ccad0a21a7d754f1aa8e67c9ef4"
  },
  "kernelspec": {
   "display_name": "Python 3.8.0 ('pytorch')",
   "language": "python",
   "name": "python3"
  },
  "language_info": {
   "codemirror_mode": {
    "name": "ipython",
    "version": 3
   },
   "file_extension": ".py",
   "mimetype": "text/x-python",
   "name": "python",
   "nbconvert_exporter": "python",
   "pygments_lexer": "ipython3",
   "version": "3.8.0"
  }
 },
 "nbformat": 4,
 "nbformat_minor": 5
}
