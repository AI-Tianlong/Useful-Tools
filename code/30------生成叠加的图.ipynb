{
 "cells": [
  {
   "cell_type": "code",
   "execution_count": 2,
   "id": "eda5de12",
   "metadata": {},
   "outputs": [],
   "source": [
    "import cv2\n",
    "import numpy as np\n",
    "from PIL import Image\n",
    "from matplotlib import pyplot as plt\n",
    "import os"
   ]
  },
  {
   "cell_type": "code",
   "execution_count": 20,
   "id": "6a54f05f",
   "metadata": {},
   "outputs": [],
   "source": [
    "real_img_path = 'D:/ATL/Graduation_design/自己画的图/预测结果图/result_picture/GID/image'\n",
    "vis_img_path = 'D:/ATL/Graduation_design/自己画的图/预测结果图/result_picture/GID/acbisenetv6/one/2048'\n",
    "\n",
    "real_img_list = os.listdir(real_img_path)\n",
    "vis_img_list = os.listdir(vis_img_path)\n",
    "\n",
    "save_path = 'xxxxxxxxxx'\n"
   ]
  },
  {
   "cell_type": "code",
   "execution_count": 26,
   "id": "7e9d57d6",
   "metadata": {},
   "outputs": [],
   "source": [
    "for i in range(len(real_img_list)):\n",
    "    # 底板图案\n",
    "    bottom_pic = np.array(Image.open(os.path.join(real_img_path, real_img_list[i])))\n",
    "    # 上层图案\n",
    "    top_pic = np.array(Image.open(os.path.join(vis_img_path, vis_img_list[i])))\n",
    "    # 权重越大，透明度越低\n",
    "    overlapping = cv2.addWeighted(bottom_pic, 0.7, top_pic, 0.5, 0)\n",
    "    # 保存叠加后的图片\n",
    "    overlapping = cv2.cvtColor(overlapping, cv2.COLOR_BGR2RGB)\n",
    "    cv2.imwrite(os.path.join(save_path, vis_img_list[i]), overlapping)"
   ]
  }
 ],
 "metadata": {
  "kernelspec": {
   "display_name": "Python (pytorch)",
   "language": "python",
   "name": "pytorch"
  },
  "language_info": {
   "codemirror_mode": {
    "name": "ipython",
    "version": 3
   },
   "file_extension": ".py",
   "mimetype": "text/x-python",
   "name": "python",
   "nbconvert_exporter": "python",
   "pygments_lexer": "ipython3",
   "version": "3.8.12"
  }
 },
 "nbformat": 4,
 "nbformat_minor": 5
}
